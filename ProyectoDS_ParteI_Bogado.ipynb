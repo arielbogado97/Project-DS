{
 "cells": [
  {
   "cell_type": "markdown",
   "id": "8af5d849",
   "metadata": {},
   "source": [
    "#                Ventas de Videojuegos 1980-2020"
   ]
  },
  {
   "cell_type": "markdown",
   "id": "502edf66",
   "metadata": {},
   "source": [
    "**Con el gran impacto que significó la evolución de la tecnogía en múltiples disciplinas, evidenciando grandes fuertes crecimientos en distintos Negocios, la industria de los videojuegos no ha sido una excepción a este movimiento.**\n",
    "\n",
    "**Por ende, este proyecto tiene como objetivo estudiar esta evolución, contando como herramienta un dataframe, donde se dispone del nombre de los videosjuegos, año de su lanzamiento, plataforma, genero, compañia y la cantidad de venta según distintas zonas de Ventas, que son EEUU, Japón, Europa y el resto de los países.**"
   ]
  },
  {
   "cell_type": "markdown",
   "id": "f154fcb6",
   "metadata": {},
   "source": [
    "# Sección 1\n",
    "\n",
    "**Comenzamos el proyecto poniendo a disposición las librerias necesarias, cargaremos el dataframe en cuestión y observaremos que tipo de datos disponemos.**"
   ]
  },
  {
   "cell_type": "code",
   "execution_count": 2,
   "id": "29192bc8",
   "metadata": {},
   "outputs": [],
   "source": [
    "import pandas as pd\n",
    "import numpy as np\n",
    "import seaborn as sns\n",
    "import matplotlib.pyplot as plt"
   ]
  },
  {
   "cell_type": "markdown",
   "id": "83155314",
   "metadata": {},
   "source": [
    "*Importamos el dataframe que utilizaremos*\n",
    "\n",
    "*Renombramos las columnas, cambiandolas del ingles al español para una mejor comprensión*"
   ]
  },
  {
   "cell_type": "code",
   "execution_count": 3,
   "id": "e10d8f3e",
   "metadata": {
    "scrolled": true
   },
   "outputs": [
    {
     "data": {
      "text/html": [
       "<div>\n",
       "<style scoped>\n",
       "    .dataframe tbody tr th:only-of-type {\n",
       "        vertical-align: middle;\n",
       "    }\n",
       "\n",
       "    .dataframe tbody tr th {\n",
       "        vertical-align: top;\n",
       "    }\n",
       "\n",
       "    .dataframe thead th {\n",
       "        text-align: right;\n",
       "    }\n",
       "</style>\n",
       "<table border=\"1\" class=\"dataframe\">\n",
       "  <thead>\n",
       "    <tr style=\"text-align: right;\">\n",
       "      <th></th>\n",
       "      <th>Ranking</th>\n",
       "      <th>Nombre</th>\n",
       "      <th>Plataforma</th>\n",
       "      <th>Año</th>\n",
       "      <th>Genero</th>\n",
       "      <th>Editora</th>\n",
       "      <th>EEUU_ventas</th>\n",
       "      <th>Euro_ventas</th>\n",
       "      <th>Japon_ventas</th>\n",
       "      <th>Resto_pais_ventas</th>\n",
       "      <th>Ventas_global</th>\n",
       "    </tr>\n",
       "  </thead>\n",
       "  <tbody>\n",
       "    <tr>\n",
       "      <th>0</th>\n",
       "      <td>1</td>\n",
       "      <td>Wii Sports</td>\n",
       "      <td>Wii</td>\n",
       "      <td>2006.0</td>\n",
       "      <td>Sports</td>\n",
       "      <td>Nintendo</td>\n",
       "      <td>41.49</td>\n",
       "      <td>29.02</td>\n",
       "      <td>3.77</td>\n",
       "      <td>8.46</td>\n",
       "      <td>82.74</td>\n",
       "    </tr>\n",
       "    <tr>\n",
       "      <th>1</th>\n",
       "      <td>2</td>\n",
       "      <td>Super Mario Bros.</td>\n",
       "      <td>NES</td>\n",
       "      <td>1985.0</td>\n",
       "      <td>Platform</td>\n",
       "      <td>Nintendo</td>\n",
       "      <td>29.08</td>\n",
       "      <td>3.58</td>\n",
       "      <td>6.81</td>\n",
       "      <td>0.77</td>\n",
       "      <td>40.24</td>\n",
       "    </tr>\n",
       "    <tr>\n",
       "      <th>2</th>\n",
       "      <td>3</td>\n",
       "      <td>Mario Kart Wii</td>\n",
       "      <td>Wii</td>\n",
       "      <td>2008.0</td>\n",
       "      <td>Racing</td>\n",
       "      <td>Nintendo</td>\n",
       "      <td>15.85</td>\n",
       "      <td>12.88</td>\n",
       "      <td>3.79</td>\n",
       "      <td>3.31</td>\n",
       "      <td>35.82</td>\n",
       "    </tr>\n",
       "    <tr>\n",
       "      <th>3</th>\n",
       "      <td>4</td>\n",
       "      <td>Wii Sports Resort</td>\n",
       "      <td>Wii</td>\n",
       "      <td>2009.0</td>\n",
       "      <td>Sports</td>\n",
       "      <td>Nintendo</td>\n",
       "      <td>15.75</td>\n",
       "      <td>11.01</td>\n",
       "      <td>3.28</td>\n",
       "      <td>2.96</td>\n",
       "      <td>33.00</td>\n",
       "    </tr>\n",
       "    <tr>\n",
       "      <th>4</th>\n",
       "      <td>5</td>\n",
       "      <td>Pokemon Red/Pokemon Blue</td>\n",
       "      <td>GB</td>\n",
       "      <td>1996.0</td>\n",
       "      <td>Role-Playing</td>\n",
       "      <td>Nintendo</td>\n",
       "      <td>11.27</td>\n",
       "      <td>8.89</td>\n",
       "      <td>10.22</td>\n",
       "      <td>1.00</td>\n",
       "      <td>31.37</td>\n",
       "    </tr>\n",
       "    <tr>\n",
       "      <th>...</th>\n",
       "      <td>...</td>\n",
       "      <td>...</td>\n",
       "      <td>...</td>\n",
       "      <td>...</td>\n",
       "      <td>...</td>\n",
       "      <td>...</td>\n",
       "      <td>...</td>\n",
       "      <td>...</td>\n",
       "      <td>...</td>\n",
       "      <td>...</td>\n",
       "      <td>...</td>\n",
       "    </tr>\n",
       "    <tr>\n",
       "      <th>16593</th>\n",
       "      <td>16596</td>\n",
       "      <td>Woody Woodpecker in Crazy Castle 5</td>\n",
       "      <td>GBA</td>\n",
       "      <td>2002.0</td>\n",
       "      <td>Platform</td>\n",
       "      <td>Kemco</td>\n",
       "      <td>0.01</td>\n",
       "      <td>0.00</td>\n",
       "      <td>0.00</td>\n",
       "      <td>0.00</td>\n",
       "      <td>0.01</td>\n",
       "    </tr>\n",
       "    <tr>\n",
       "      <th>16594</th>\n",
       "      <td>16597</td>\n",
       "      <td>Men in Black II: Alien Escape</td>\n",
       "      <td>GC</td>\n",
       "      <td>2003.0</td>\n",
       "      <td>Shooter</td>\n",
       "      <td>Infogrames</td>\n",
       "      <td>0.01</td>\n",
       "      <td>0.00</td>\n",
       "      <td>0.00</td>\n",
       "      <td>0.00</td>\n",
       "      <td>0.01</td>\n",
       "    </tr>\n",
       "    <tr>\n",
       "      <th>16595</th>\n",
       "      <td>16598</td>\n",
       "      <td>SCORE International Baja 1000: The Official Game</td>\n",
       "      <td>PS2</td>\n",
       "      <td>2008.0</td>\n",
       "      <td>Racing</td>\n",
       "      <td>Activision</td>\n",
       "      <td>0.00</td>\n",
       "      <td>0.00</td>\n",
       "      <td>0.00</td>\n",
       "      <td>0.00</td>\n",
       "      <td>0.01</td>\n",
       "    </tr>\n",
       "    <tr>\n",
       "      <th>16596</th>\n",
       "      <td>16599</td>\n",
       "      <td>Know How 2</td>\n",
       "      <td>DS</td>\n",
       "      <td>2010.0</td>\n",
       "      <td>Puzzle</td>\n",
       "      <td>7G//AMES</td>\n",
       "      <td>0.00</td>\n",
       "      <td>0.01</td>\n",
       "      <td>0.00</td>\n",
       "      <td>0.00</td>\n",
       "      <td>0.01</td>\n",
       "    </tr>\n",
       "    <tr>\n",
       "      <th>16597</th>\n",
       "      <td>16600</td>\n",
       "      <td>Spirits &amp; Spells</td>\n",
       "      <td>GBA</td>\n",
       "      <td>2003.0</td>\n",
       "      <td>Platform</td>\n",
       "      <td>Wanadoo</td>\n",
       "      <td>0.01</td>\n",
       "      <td>0.00</td>\n",
       "      <td>0.00</td>\n",
       "      <td>0.00</td>\n",
       "      <td>0.01</td>\n",
       "    </tr>\n",
       "  </tbody>\n",
       "</table>\n",
       "<p>16598 rows × 11 columns</p>\n",
       "</div>"
      ],
      "text/plain": [
       "       Ranking                                            Nombre Plataforma  \\\n",
       "0            1                                        Wii Sports        Wii   \n",
       "1            2                                 Super Mario Bros.        NES   \n",
       "2            3                                    Mario Kart Wii        Wii   \n",
       "3            4                                 Wii Sports Resort        Wii   \n",
       "4            5                          Pokemon Red/Pokemon Blue         GB   \n",
       "...        ...                                               ...        ...   \n",
       "16593    16596                Woody Woodpecker in Crazy Castle 5        GBA   \n",
       "16594    16597                     Men in Black II: Alien Escape         GC   \n",
       "16595    16598  SCORE International Baja 1000: The Official Game        PS2   \n",
       "16596    16599                                        Know How 2         DS   \n",
       "16597    16600                                  Spirits & Spells        GBA   \n",
       "\n",
       "          Año        Genero     Editora  EEUU_ventas  Euro_ventas  \\\n",
       "0      2006.0        Sports    Nintendo        41.49        29.02   \n",
       "1      1985.0      Platform    Nintendo        29.08         3.58   \n",
       "2      2008.0        Racing    Nintendo        15.85        12.88   \n",
       "3      2009.0        Sports    Nintendo        15.75        11.01   \n",
       "4      1996.0  Role-Playing    Nintendo        11.27         8.89   \n",
       "...       ...           ...         ...          ...          ...   \n",
       "16593  2002.0      Platform       Kemco         0.01         0.00   \n",
       "16594  2003.0       Shooter  Infogrames         0.01         0.00   \n",
       "16595  2008.0        Racing  Activision         0.00         0.00   \n",
       "16596  2010.0        Puzzle    7G//AMES         0.00         0.01   \n",
       "16597  2003.0      Platform     Wanadoo         0.01         0.00   \n",
       "\n",
       "       Japon_ventas  Resto_pais_ventas  Ventas_global  \n",
       "0              3.77               8.46          82.74  \n",
       "1              6.81               0.77          40.24  \n",
       "2              3.79               3.31          35.82  \n",
       "3              3.28               2.96          33.00  \n",
       "4             10.22               1.00          31.37  \n",
       "...             ...                ...            ...  \n",
       "16593          0.00               0.00           0.01  \n",
       "16594          0.00               0.00           0.01  \n",
       "16595          0.00               0.00           0.01  \n",
       "16596          0.00               0.00           0.01  \n",
       "16597          0.00               0.00           0.01  \n",
       "\n",
       "[16598 rows x 11 columns]"
      ]
     },
     "execution_count": 3,
     "metadata": {},
     "output_type": "execute_result"
    }
   ],
   "source": [
    "df = pd.read_excel('C:/Users/ariel/Desktop/Data Sciencts/Data Sciencts/Desafíos con Python/Videojuego DS/vgsales.xlsx')\n",
    "df.columns = [\"Ranking\",\"Nombre\",\"Plataforma\", \"Año\", \"Genero\",\n",
    "                   \"Editora\", \"EEUU_ventas\", \"Euro_ventas\",\"Japon_ventas\",\"Resto_pais_ventas\",\"Ventas_global\"]\n",
    "df"
   ]
  },
  {
   "cell_type": "markdown",
   "id": "fc098ac8",
   "metadata": {},
   "source": [
    "*Observamos que tipos de columnas disponemos*"
   ]
  },
  {
   "cell_type": "code",
   "execution_count": 4,
   "id": "defb1858",
   "metadata": {
    "scrolled": false
   },
   "outputs": [
    {
     "name": "stdout",
     "output_type": "stream",
     "text": [
      "<class 'pandas.core.frame.DataFrame'>\n",
      "RangeIndex: 16598 entries, 0 to 16597\n",
      "Data columns (total 11 columns):\n",
      " #   Column             Non-Null Count  Dtype  \n",
      "---  ------             --------------  -----  \n",
      " 0   Ranking            16598 non-null  int64  \n",
      " 1   Nombre             16598 non-null  object \n",
      " 2   Plataforma         16572 non-null  object \n",
      " 3   Año                16301 non-null  float64\n",
      " 4   Genero             16572 non-null  object \n",
      " 5   Editora            16514 non-null  object \n",
      " 6   EEUU_ventas        16572 non-null  float64\n",
      " 7   Euro_ventas        16572 non-null  float64\n",
      " 8   Japon_ventas       16572 non-null  float64\n",
      " 9   Resto_pais_ventas  16572 non-null  float64\n",
      " 10  Ventas_global      16572 non-null  float64\n",
      "dtypes: float64(6), int64(1), object(4)\n",
      "memory usage: 1.4+ MB\n"
     ]
    }
   ],
   "source": [
    "df.info()"
   ]
  },
  {
   "cell_type": "markdown",
   "id": "bc6e6dfc",
   "metadata": {},
   "source": [
    "*Observamos las estadísticas descriptivas de cada columna* "
   ]
  },
  {
   "cell_type": "code",
   "execution_count": 5,
   "id": "f5b1f4a3",
   "metadata": {},
   "outputs": [
    {
     "data": {
      "text/html": [
       "<div>\n",
       "<style scoped>\n",
       "    .dataframe tbody tr th:only-of-type {\n",
       "        vertical-align: middle;\n",
       "    }\n",
       "\n",
       "    .dataframe tbody tr th {\n",
       "        vertical-align: top;\n",
       "    }\n",
       "\n",
       "    .dataframe thead th {\n",
       "        text-align: right;\n",
       "    }\n",
       "</style>\n",
       "<table border=\"1\" class=\"dataframe\">\n",
       "  <thead>\n",
       "    <tr style=\"text-align: right;\">\n",
       "      <th></th>\n",
       "      <th>Ranking</th>\n",
       "      <th>Año</th>\n",
       "      <th>EEUU_ventas</th>\n",
       "      <th>Euro_ventas</th>\n",
       "      <th>Japon_ventas</th>\n",
       "      <th>Resto_pais_ventas</th>\n",
       "      <th>Ventas_global</th>\n",
       "    </tr>\n",
       "  </thead>\n",
       "  <tbody>\n",
       "    <tr>\n",
       "      <th>count</th>\n",
       "      <td>16598.000000</td>\n",
       "      <td>16301.000000</td>\n",
       "      <td>16572.000000</td>\n",
       "      <td>16572.000000</td>\n",
       "      <td>16572.000000</td>\n",
       "      <td>16572.000000</td>\n",
       "      <td>16572.000000</td>\n",
       "    </tr>\n",
       "    <tr>\n",
       "      <th>mean</th>\n",
       "      <td>8300.605254</td>\n",
       "      <td>2006.396847</td>\n",
       "      <td>0.265071</td>\n",
       "      <td>0.146872</td>\n",
       "      <td>0.077843</td>\n",
       "      <td>0.048132</td>\n",
       "      <td>0.538194</td>\n",
       "    </tr>\n",
       "    <tr>\n",
       "      <th>std</th>\n",
       "      <td>4791.853933</td>\n",
       "      <td>5.828025</td>\n",
       "      <td>0.817260</td>\n",
       "      <td>0.505716</td>\n",
       "      <td>0.309525</td>\n",
       "      <td>0.188728</td>\n",
       "      <td>1.556130</td>\n",
       "    </tr>\n",
       "    <tr>\n",
       "      <th>min</th>\n",
       "      <td>1.000000</td>\n",
       "      <td>1980.000000</td>\n",
       "      <td>0.000000</td>\n",
       "      <td>0.000000</td>\n",
       "      <td>0.000000</td>\n",
       "      <td>0.000000</td>\n",
       "      <td>0.010000</td>\n",
       "    </tr>\n",
       "    <tr>\n",
       "      <th>25%</th>\n",
       "      <td>4151.250000</td>\n",
       "      <td>2003.000000</td>\n",
       "      <td>0.000000</td>\n",
       "      <td>0.000000</td>\n",
       "      <td>0.000000</td>\n",
       "      <td>0.000000</td>\n",
       "      <td>0.060000</td>\n",
       "    </tr>\n",
       "    <tr>\n",
       "      <th>50%</th>\n",
       "      <td>8300.500000</td>\n",
       "      <td>2007.000000</td>\n",
       "      <td>0.080000</td>\n",
       "      <td>0.020000</td>\n",
       "      <td>0.000000</td>\n",
       "      <td>0.010000</td>\n",
       "      <td>0.170000</td>\n",
       "    </tr>\n",
       "    <tr>\n",
       "      <th>75%</th>\n",
       "      <td>12449.750000</td>\n",
       "      <td>2010.000000</td>\n",
       "      <td>0.240000</td>\n",
       "      <td>0.110000</td>\n",
       "      <td>0.040000</td>\n",
       "      <td>0.040000</td>\n",
       "      <td>0.480000</td>\n",
       "    </tr>\n",
       "    <tr>\n",
       "      <th>max</th>\n",
       "      <td>16600.000000</td>\n",
       "      <td>2020.000000</td>\n",
       "      <td>41.490000</td>\n",
       "      <td>29.020000</td>\n",
       "      <td>10.220000</td>\n",
       "      <td>10.570000</td>\n",
       "      <td>82.740000</td>\n",
       "    </tr>\n",
       "  </tbody>\n",
       "</table>\n",
       "</div>"
      ],
      "text/plain": [
       "            Ranking           Año   EEUU_ventas   Euro_ventas  Japon_ventas  \\\n",
       "count  16598.000000  16301.000000  16572.000000  16572.000000  16572.000000   \n",
       "mean    8300.605254   2006.396847      0.265071      0.146872      0.077843   \n",
       "std     4791.853933      5.828025      0.817260      0.505716      0.309525   \n",
       "min        1.000000   1980.000000      0.000000      0.000000      0.000000   \n",
       "25%     4151.250000   2003.000000      0.000000      0.000000      0.000000   \n",
       "50%     8300.500000   2007.000000      0.080000      0.020000      0.000000   \n",
       "75%    12449.750000   2010.000000      0.240000      0.110000      0.040000   \n",
       "max    16600.000000   2020.000000     41.490000     29.020000     10.220000   \n",
       "\n",
       "       Resto_pais_ventas  Ventas_global  \n",
       "count       16572.000000   16572.000000  \n",
       "mean            0.048132       0.538194  \n",
       "std             0.188728       1.556130  \n",
       "min             0.000000       0.010000  \n",
       "25%             0.000000       0.060000  \n",
       "50%             0.010000       0.170000  \n",
       "75%             0.040000       0.480000  \n",
       "max            10.570000      82.740000  "
      ]
     },
     "execution_count": 5,
     "metadata": {},
     "output_type": "execute_result"
    }
   ],
   "source": [
    "df.describe()"
   ]
  },
  {
   "cell_type": "markdown",
   "id": "9e44ab77",
   "metadata": {},
   "source": [
    "# Sección 2\n",
    "\n",
    "**En esta sección, nos plantearemos preguntas y trataremos de responderlas a partir de visuializaciones**"
   ]
  },
  {
   "cell_type": "markdown",
   "id": "fe8d27c4",
   "metadata": {},
   "source": [
    "**Cómo evolucionaron el lanzamiento en los distintos años y las ventas que tuvieron?**\n",
    "\n",
    "Observamos que las ventas han ido evolucionando, siendo el intervalo de los años 2005-2010, donde se han registrados los mayores picos de ventas, pero en los ultimos años esta tendencia ha bajado"
   ]
  },
  {
   "cell_type": "code",
   "execution_count": 6,
   "id": "1a6266a1",
   "metadata": {},
   "outputs": [
    {
     "data": {
      "text/plain": [
       "Text(0, 0.5, 'Ventas')"
      ]
     },
     "execution_count": 6,
     "metadata": {},
     "output_type": "execute_result"
    },
    {
     "data": {
      "image/png": "[encoded data removed]",
      "text/plain": [
       "<Figure size 720x432 with 1 Axes>"
      ]
     },
     "metadata": {
      "needs_background": "light"
     },
     "output_type": "display_data"
    }
   ],
   "source": [
    "year_trend = df.Año.value_counts().to_frame().reset_index().rename(columns={'index': 'Año', 'Año':'Count'})\n",
    "year_trend.head()\n",
    "plt.figure(figsize = (10, 6))\n",
    "sns.barplot(data = year_trend, x = 'Año', y = 'Count')\n",
    "plt.xticks(rotation=90);\n",
    "plt.title(\"Evolución de Ventas x Año\")\n",
    "plt.xlabel(\"Años\")\n",
    "plt.ylabel(\"Ventas\")"
   ]
  },
  {
   "cell_type": "markdown",
   "id": "43b2dbb1",
   "metadata": {},
   "source": [
    "**Cómo evolucionaron las ventas de los videojuegos(según su año de lanzamineto) con respecto a las regiones?**\n",
    "\n",
    "*EEUU, Japón, Europa, Resto de páises\n",
    "\n",
    "*las gráficas demuestran una cierta similitud con las ventas globales, con la excepción de que en Japón se presenta una mayor participación de ventas de videojuegos lanzados en la década de los 90´s"
   ]
  },
  {
   "cell_type": "code",
   "execution_count": 7,
   "id": "6d346d32",
   "metadata": {},
   "outputs": [
    {
     "data": {
      "image/png": "[encoded data removed]",
      "text/plain": [
       "<Figure size 1008x648 with 4 Axes>"
      ]
     },
     "metadata": {
      "needs_background": "light"
     },
     "output_type": "display_data"
    }
   ],
   "source": [
    "df = df.sort_values(by='Año', ascending=True)\n",
    "\n",
    "ventas_año=list(df.Año.unique())\n",
    "america=[]\n",
    "europa=[]\n",
    "japon=[]\n",
    "otros=[]\n",
    "\n",
    "for i in ventas_año:\n",
    "    val=df[df.Año==i]\n",
    "    america.append(val.EEUU_ventas.sum())\n",
    "    europa.append(val.Euro_ventas.sum())\n",
    "    japon.append(val.Japon_ventas.sum())\n",
    "    otros.append(val.Resto_pais_ventas.sum())\n",
    "\n",
    "d2 = pd.DataFrame({'Año': ventas_año, 'EEUU_ventas': america, 'Euro_ventas': europa, 'Japon_ventas': japon, 'Resto_pais_ventas': otros})\n",
    "    \n",
    "fig, ax = plt.subplots(2,2,figsize=(14,9))\n",
    "ax[0,0].plot(d2['Año'], d2['EEUU_ventas'], color='blue')\n",
    "ax[0,1].plot(d2['Año'], d2['Euro_ventas'], color='red')\n",
    "ax[1,0].plot(d2['Año'], d2['Japon_ventas'], color='green')\n",
    "ax[1,1].plot(d2['Año'], d2['Resto_pais_ventas'], color='purple')\n",
    "\n",
    "ax[0,0].set_xlabel('Año')\n",
    "ax[0,1].set_xlabel('Año')\n",
    "ax[1,0].set_xlabel('Año')\n",
    "ax[1,1].set_xlabel('Año')\n",
    "\n",
    "ax[0,0].set_ylabel('Ventas NA')\n",
    "ax[0,1].set_ylabel('Ventas EU')\n",
    "ax[1,0].set_ylabel('Ventas JP')\n",
    "ax[1,1].set_ylabel('Ventas Other')\n",
    "\n",
    "plt.show()"
   ]
  },
  {
   "cell_type": "markdown",
   "id": "bc225127",
   "metadata": {},
   "source": [
    "**Cuales fueron los 20 videojuegos más vendidos?**\n",
    "\n",
    "*Los resultados obtenidos, nos demuestran que la mayoria de los videojuegos han sido publicados por la editorial \"Nintendo\", registrando esta compañía en el año 2006 un ingreso global de 82,74 millones de dólares por su videojuego de \"Wii Sport\", otorgando a este año el mayor nivel de ventas en la historia.*"
   ]
  },
  {
   "cell_type": "code",
   "execution_count": 8,
   "id": "f19bace9",
   "metadata": {
    "scrolled": true
   },
   "outputs": [
    {
     "data": {
      "text/html": [
       "\n",
       "    <div class=\"bk-root\">\n",
       "        <a href=\"https://bokeh.org\" target=\"_blank\" class=\"bk-logo bk-logo-small bk-logo-notebook\"></a>\n",
       "        <span id=\"1002\">Loading BokehJS ...</span>\n",
       "    </div>"
      ]
     },
     "metadata": {},
     "output_type": "display_data"
    },
    {
     "data": {
      "application/javascript": [
       "\n",
       "(function(root) {\n",
       "  function now() {\n",
       "    return new Date();\n",
       "  }\n",
       "\n",
       "  const force = true;\n",
       "\n",
       "  if (typeof root._bokeh_onload_callbacks === \"undefined\" || force === true) {\n",
       "    root._bokeh_onload_callbacks = [];\n",
       "    root._bokeh_is_loading = undefined;\n",
       "  }\n",
       "\n",
       "  const JS_MIME_TYPE = 'application/javascript';\n",
       "  const HTML_MIME_TYPE = 'text/html';\n",
       "  const EXEC_MIME_TYPE = 'application/vnd.bokehjs_exec.v0+json';\n",
       "  const CLASS_NAME = 'output_bokeh rendered_html';\n",
       "\n",
       "  /**\n",
       "   * Render data to the DOM node\n",
       "   */\n",
       "  function render(props, node) {\n",
       "    const script = document.createElement(\"script\");\n",
       "    node.appendChild(script);\n",
       "  }\n",
       "\n",
       "  /**\n",
       "   * Handle when an output is cleared or removed\n",
       "   */\n",
       "  function handleClearOutput(event, handle) {\n",
       "    const cell = handle.cell;\n",
       "\n",
       "    const id = cell.output_area._bokeh_element_id;\n",
       "    const server_id = cell.output_area._bokeh_server_id;\n",
       "    // Clean up Bokeh references\n",
       "    if (id != null && id in Bokeh.index) {\n",
       "      Bokeh.index[id].model.document.clear();\n",
       "      delete Bokeh.index[id];\n",
       "    }\n",
       "\n",
       "    if (server_id !== undefined) {\n",
       "      // Clean up Bokeh references\n",
       "      const cmd_clean = \"from bokeh.io.state import curstate; print(curstate().uuid_to_server['\" + server_id + \"'].get_sessions()[0].document.roots[0]._id)\";\n",
       "      cell.notebook.kernel.execute(cmd_clean, {\n",
       "        iopub: {\n",
       "          output: function(msg) {\n",
       "            const id = msg.content.text.trim();\n",
       "            if (id in Bokeh.index) {\n",
       "              Bokeh.index[id].model.document.clear();\n",
       "              delete Bokeh.index[id];\n",
       "            }\n",
       "          }\n",
       "        }\n",
       "      });\n",
       "      // Destroy server and session\n",
       "      const cmd_destroy = \"import bokeh.io.notebook as ion; ion.destroy_server('\" + server_id + \"')\";\n",
       "      cell.notebook.kernel.execute(cmd_destroy);\n",
       "    }\n",
       "  }\n",
       "\n",
       "  /**\n",
       "   * Handle when a new output is added\n",
       "   */\n",
       "  function handleAddOutput(event, handle) {\n",
       "    const output_area = handle.output_area;\n",
       "    const output = handle.output;\n",
       "\n",
       "    // limit handleAddOutput to display_data with EXEC_MIME_TYPE content only\n",
       "    if ((output.output_type != \"display_data\") || (!Object.prototype.hasOwnProperty.call(output.data, EXEC_MIME_TYPE))) {\n",
       "      return\n",
       "    }\n",
       "\n",
       "    const toinsert = output_area.element.find(\".\" + CLASS_NAME.split(' ')[0]);\n",
       "\n",
       "    if (output.metadata[EXEC_MIME_TYPE][\"id\"] !== undefined) {\n",
       "      toinsert[toinsert.length - 1].firstChild.textContent = output.data[JS_MIME_TYPE];\n",
       "      // store reference to embed id on output_area\n",
       "      output_area._bokeh_element_id = output.metadata[EXEC_MIME_TYPE][\"id\"];\n",
       "    }\n",
       "    if (output.metadata[EXEC_MIME_TYPE][\"server_id\"] !== undefined) {\n",
       "      const bk_div = document.createElement(\"div\");\n",
       "      bk_div.innerHTML = output.data[HTML_MIME_TYPE];\n",
       "      const script_attrs = bk_div.children[0].attributes;\n",
       "      for (let i = 0; i < script_attrs.length; i++) {\n",
       "        toinsert[toinsert.length - 1].firstChild.setAttribute(script_attrs[i].name, script_attrs[i].value);\n",
       "        toinsert[toinsert.length - 1].firstChild.textContent = bk_div.children[0].textContent\n",
       "      }\n",
       "      // store reference to server id on output_area\n",
       "      output_area._bokeh_server_id = output.metadata[EXEC_MIME_TYPE][\"server_id\"];\n",
       "    }\n",
       "  }\n",
       "\n",
       "  function register_renderer(events, OutputArea) {\n",
       "\n",
       "    function append_mime(data, metadata, element) {\n",
       "      // create a DOM node to render to\n",
       "      const toinsert = this.create_output_subarea(\n",
       "        metadata,\n",
       "        CLASS_NAME,\n",
       "        EXEC_MIME_TYPE\n",
       "      );\n",
       "      this.keyboard_manager.register_events(toinsert);\n",
       "      // Render to node\n",
       "      const props = {data: data, metadata: metadata[EXEC_MIME_TYPE]};\n",
       "      render(props, toinsert[toinsert.length - 1]);\n",
       "      element.append(toinsert);\n",
       "      return toinsert\n",
       "    }\n",
       "\n",
       "    /* Handle when an output is cleared or removed */\n",
       "    events.on('clear_output.CodeCell', handleClearOutput);\n",
       "    events.on('delete.Cell', handleClearOutput);\n",
       "\n",
       "    /* Handle when a new output is added */\n",
       "    events.on('output_added.OutputArea', handleAddOutput);\n",
       "\n",
       "    /**\n",
       "     * Register the mime type and append_mime function with output_area\n",
       "     */\n",
       "    OutputArea.prototype.register_mime_type(EXEC_MIME_TYPE, append_mime, {\n",
       "      /* Is output safe? */\n",
       "      safe: true,\n",
       "      /* Index of renderer in `output_area.display_order` */\n",
       "      index: 0\n",
       "    });\n",
       "  }\n",
       "\n",
       "  // register the mime type if in Jupyter Notebook environment and previously unregistered\n",
       "  if (root.Jupyter !== undefined) {\n",
       "    const events = require('base/js/events');\n",
       "    const OutputArea = require('notebook/js/outputarea').OutputArea;\n",
       "\n",
       "    if (OutputArea.prototype.mime_types().indexOf(EXEC_MIME_TYPE) == -1) {\n",
       "      register_renderer(events, OutputArea);\n",
       "    }\n",
       "  }\n",
       "\n",
       "  \n",
       "  if (typeof (root._bokeh_timeout) === \"undefined\" || force === true) {\n",
       "    root._bokeh_timeout = Date.now() + 5000;\n",
       "    root._bokeh_failed_load = false;\n",
       "  }\n",
       "\n",
       "  const NB_LOAD_WARNING = {'data': {'text/html':\n",
       "     \"<div style='background-color: #fdd'>\\n\"+\n",
       "     \"<p>\\n\"+\n",
       "     \"BokehJS does not appear to have successfully loaded. If loading BokehJS from CDN, this \\n\"+\n",
       "     \"may be due to a slow or bad network connection. Possible fixes:\\n\"+\n",
       "     \"</p>\\n\"+\n",
       "     \"<ul>\\n\"+\n",
       "     \"<li>re-rerun `output_notebook()` to attempt to load from CDN again, or</li>\\n\"+\n",
       "     \"<li>use INLINE resources instead, as so:</li>\\n\"+\n",
       "     \"</ul>\\n\"+\n",
       "     \"<code>\\n\"+\n",
       "     \"from bokeh.resources import INLINE\\n\"+\n",
       "     \"output_notebook(resources=INLINE)\\n\"+\n",
       "     \"</code>\\n\"+\n",
       "     \"</div>\"}};\n",
       "\n",
       "  function display_loaded() {\n",
       "    const el = document.getElementById(\"1002\");\n",
       "    if (el != null) {\n",
       "      el.textContent = \"BokehJS is loading...\";\n",
       "    }\n",
       "    if (root.Bokeh !== undefined) {\n",
       "      if (el != null) {\n",
       "        el.textContent = \"BokehJS \" + root.Bokeh.version + \" successfully loaded.\";\n",
       "      }\n",
       "    } else if (Date.now() < root._bokeh_timeout) {\n",
       "      setTimeout(display_loaded, 100)\n",
       "    }\n",
       "  }\n",
       "\n",
       "\n",
       "  function run_callbacks() {\n",
       "    try {\n",
       "      root._bokeh_onload_callbacks.forEach(function(callback) {\n",
       "        if (callback != null)\n",
       "          callback();\n",
       "      });\n",
       "    } finally {\n",
       "      delete root._bokeh_onload_callbacks\n",
       "    }\n",
       "    console.debug(\"Bokeh: all callbacks have finished\");\n",
       "  }\n",
       "\n",
       "  function load_libs(css_urls, js_urls, callback) {\n",
       "    if (css_urls == null) css_urls = [];\n",
       "    if (js_urls == null) js_urls = [];\n",
       "\n",
       "    root._bokeh_onload_callbacks.push(callback);\n",
       "    if (root._bokeh_is_loading > 0) {\n",
       "      console.debug(\"Bokeh: BokehJS is being loaded, scheduling callback at\", now());\n",
       "      return null;\n",
       "    }\n",
       "    if (js_urls == null || js_urls.length === 0) {\n",
       "      run_callbacks();\n",
       "      return null;\n",
       "    }\n",
       "    console.debug(\"Bokeh: BokehJS not loaded, scheduling load and callback at\", now());\n",
       "    root._bokeh_is_loading = css_urls.length + js_urls.length;\n",
       "\n",
       "    function on_load() {\n",
       "      root._bokeh_is_loading--;\n",
       "      if (root._bokeh_is_loading === 0) {\n",
       "        console.debug(\"Bokeh: all BokehJS libraries/stylesheets loaded\");\n",
       "        run_callbacks()\n",
       "      }\n",
       "    }\n",
       "\n",
       "    function on_error(url) {\n",
       "      console.error(\"failed to load \" + url);\n",
       "    }\n",
       "\n",
       "    for (let i = 0; i < css_urls.length; i++) {\n",
       "      const url = css_urls[i];\n",
       "      const element = document.createElement(\"link\");\n",
       "      element.onload = on_load;\n",
       "      element.onerror = on_error.bind(null, url);\n",
       "      element.rel = \"stylesheet\";\n",
       "      element.type = \"text/css\";\n",
       "      element.href = url;\n",
       "      console.debug(\"Bokeh: injecting link tag for BokehJS stylesheet: \", url);\n",
       "      document.body.appendChild(element);\n",
       "    }\n",
       "\n",
       "    for (let i = 0; i < js_urls.length; i++) {\n",
       "      const url = js_urls[i];\n",
       "      const element = document.createElement('script');\n",
       "      element.onload = on_load;\n",
       "      element.onerror = on_error.bind(null, url);\n",
       "      element.async = false;\n",
       "      element.src = url;\n",
       "      console.debug(\"Bokeh: injecting script tag for BokehJS library: \", url);\n",
       "      document.head.appendChild(element);\n",
       "    }\n",
       "  };\n",
       "\n",
       "  function inject_raw_css(css) {\n",
       "    const element = document.createElement(\"style\");\n",
       "    element.appendChild(document.createTextNode(css));\n",
       "    document.body.appendChild(element);\n",
       "  }\n",
       "\n",
       "  \n",
       "  const js_urls = [\"https://cdn.bokeh.org/bokeh/release/bokeh-2.4.1.min.js\", \"https://cdn.bokeh.org/bokeh/release/bokeh-gl-2.4.1.min.js\", \"https://cdn.bokeh.org/bokeh/release/bokeh-widgets-2.4.1.min.js\", \"https://cdn.bokeh.org/bokeh/release/bokeh-tables-2.4.1.min.js\", \"https://cdn.bokeh.org/bokeh/release/bokeh-mathjax-2.4.1.min.js\"];\n",
       "  const css_urls = [];\n",
       "  \n",
       "\n",
       "  const inline_js = [\n",
       "    function(Bokeh) {\n",
       "      Bokeh.set_log_level(\"info\");\n",
       "    },\n",
       "    function(Bokeh) {\n",
       "    \n",
       "    \n",
       "    }\n",
       "  ];\n",
       "\n",
       "  function run_inline_js() {\n",
       "    \n",
       "    if (root.Bokeh !== undefined || force === true) {\n",
       "      \n",
       "    for (let i = 0; i < inline_js.length; i++) {\n",
       "      inline_js[i].call(root, root.Bokeh);\n",
       "    }\n",
       "    if (force === true) {\n",
       "        display_loaded();\n",
       "      }} else if (Date.now() < root._bokeh_timeout) {\n",
       "      setTimeout(run_inline_js, 100);\n",
       "    } else if (!root._bokeh_failed_load) {\n",
       "      console.log(\"Bokeh: BokehJS failed to load within specified timeout.\");\n",
       "      root._bokeh_failed_load = true;\n",
       "    } else if (force !== true) {\n",
       "      const cell = $(document.getElementById(\"1002\")).parents('.cell').data().cell;\n",
       "      cell.output_area.append_execute_result(NB_LOAD_WARNING)\n",
       "    }\n",
       "\n",
       "  }\n",
       "\n",
       "  if (root._bokeh_is_loading === 0) {\n",
       "    console.debug(\"Bokeh: BokehJS loaded, going straight to plotting\");\n",
       "    run_inline_js();\n",
       "  } else {\n",
       "    load_libs(css_urls, js_urls, function() {\n",
       "      console.debug(\"Bokeh: BokehJS plotting callback run at\", now());\n",
       "      run_inline_js();\n",
       "    });\n",
       "  }\n",
       "}(window));"
      ],
      "application/vnd.bokehjs_load.v0+json": "\n(function(root) {\n  function now() {\n    return new Date();\n  }\n\n  const force = true;\n\n  if (typeof root._bokeh_onload_callbacks === \"undefined\" || force === true) {\n    root._bokeh_onload_callbacks = [];\n    root._bokeh_is_loading = undefined;\n  }\n\n  \n\n  \n  if (typeof (root._bokeh_timeout) === \"undefined\" || force === true) {\n    root._bokeh_timeout = Date.now() + 5000;\n    root._bokeh_failed_load = false;\n  }\n\n  const NB_LOAD_WARNING = {'data': {'text/html':\n     \"<div style='background-color: #fdd'>\\n\"+\n     \"<p>\\n\"+\n     \"BokehJS does not appear to have successfully loaded. If loading BokehJS from CDN, this \\n\"+\n     \"may be due to a slow or bad network connection. Possible fixes:\\n\"+\n     \"</p>\\n\"+\n     \"<ul>\\n\"+\n     \"<li>re-rerun `output_notebook()` to attempt to load from CDN again, or</li>\\n\"+\n     \"<li>use INLINE resources instead, as so:</li>\\n\"+\n     \"</ul>\\n\"+\n     \"<code>\\n\"+\n     \"from bokeh.resources import INLINE\\n\"+\n     \"output_notebook(resources=INLINE)\\n\"+\n     \"</code>\\n\"+\n     \"</div>\"}};\n\n  function display_loaded() {\n    const el = document.getElementById(\"1002\");\n    if (el != null) {\n      el.textContent = \"BokehJS is loading...\";\n    }\n    if (root.Bokeh !== undefined) {\n      if (el != null) {\n        el.textContent = \"BokehJS \" + root.Bokeh.version + \" successfully loaded.\";\n      }\n    } else if (Date.now() < root._bokeh_timeout) {\n      setTimeout(display_loaded, 100)\n    }\n  }\n\n\n  function run_callbacks() {\n    try {\n      root._bokeh_onload_callbacks.forEach(function(callback) {\n        if (callback != null)\n          callback();\n      });\n    } finally {\n      delete root._bokeh_onload_callbacks\n    }\n    console.debug(\"Bokeh: all callbacks have finished\");\n  }\n\n  function load_libs(css_urls, js_urls, callback) {\n    if (css_urls == null) css_urls = [];\n    if (js_urls == null) js_urls = [];\n\n    root._bokeh_onload_callbacks.push(callback);\n    if (root._bokeh_is_loading > 0) {\n      console.debug(\"Bokeh: BokehJS is being loaded, scheduling callback at\", now());\n      return null;\n    }\n    if (js_urls == null || js_urls.length === 0) {\n      run_callbacks();\n      return null;\n    }\n    console.debug(\"Bokeh: BokehJS not loaded, scheduling load and callback at\", now());\n    root._bokeh_is_loading = css_urls.length + js_urls.length;\n\n    function on_load() {\n      root._bokeh_is_loading--;\n      if (root._bokeh_is_loading === 0) {\n        console.debug(\"Bokeh: all BokehJS libraries/stylesheets loaded\");\n        run_callbacks()\n      }\n    }\n\n    function on_error(url) {\n      console.error(\"failed to load \" + url);\n    }\n\n    for (let i = 0; i < css_urls.length; i++) {\n      const url = css_urls[i];\n      const element = document.createElement(\"link\");\n      element.onload = on_load;\n      element.onerror = on_error.bind(null, url);\n      element.rel = \"stylesheet\";\n      element.type = \"text/css\";\n      element.href = url;\n      console.debug(\"Bokeh: injecting link tag for BokehJS stylesheet: \", url);\n      document.body.appendChild(element);\n    }\n\n    for (let i = 0; i < js_urls.length; i++) {\n      const url = js_urls[i];\n      const element = document.createElement('script');\n      element.onload = on_load;\n      element.onerror = on_error.bind(null, url);\n      element.async = false;\n      element.src = url;\n      console.debug(\"Bokeh: injecting script tag for BokehJS library: \", url);\n      document.head.appendChild(element);\n    }\n  };\n\n  function inject_raw_css(css) {\n    const element = document.createElement(\"style\");\n    element.appendChild(document.createTextNode(css));\n    document.body.appendChild(element);\n  }\n\n  \n  const js_urls = [\"https://cdn.bokeh.org/bokeh/release/bokeh-2.4.1.min.js\", \"https://cdn.bokeh.org/bokeh/release/bokeh-gl-2.4.1.min.js\", \"https://cdn.bokeh.org/bokeh/release/bokeh-widgets-2.4.1.min.js\", \"https://cdn.bokeh.org/bokeh/release/bokeh-tables-2.4.1.min.js\", \"https://cdn.bokeh.org/bokeh/release/bokeh-mathjax-2.4.1.min.js\"];\n  const css_urls = [];\n  \n\n  const inline_js = [\n    function(Bokeh) {\n      Bokeh.set_log_level(\"info\");\n    },\n    function(Bokeh) {\n    \n    \n    }\n  ];\n\n  function run_inline_js() {\n    \n    if (root.Bokeh !== undefined || force === true) {\n      \n    for (let i = 0; i < inline_js.length; i++) {\n      inline_js[i].call(root, root.Bokeh);\n    }\n    if (force === true) {\n        display_loaded();\n      }} else if (Date.now() < root._bokeh_timeout) {\n      setTimeout(run_inline_js, 100);\n    } else if (!root._bokeh_failed_load) {\n      console.log(\"Bokeh: BokehJS failed to load within specified timeout.\");\n      root._bokeh_failed_load = true;\n    } else if (force !== true) {\n      const cell = $(document.getElementById(\"1002\")).parents('.cell').data().cell;\n      cell.output_area.append_execute_result(NB_LOAD_WARNING)\n    }\n\n  }\n\n  if (root._bokeh_is_loading === 0) {\n    console.debug(\"Bokeh: BokehJS loaded, going straight to plotting\");\n    run_inline_js();\n  } else {\n    load_libs(css_urls, js_urls, function() {\n      console.debug(\"Bokeh: BokehJS plotting callback run at\", now());\n      run_inline_js();\n    });\n  }\n}(window));"
     },
     "metadata": {},
     "output_type": "display_data"
    },
    {
     "data": {
      "text/html": [
       "\n",
       "\n",
       "\n",
       "\n",
       "\n",
       "\n",
       "  <div class=\"bk-root\" id=\"8599d121-9d4c-43f2-b3e6-41c5ca380666\" data-root-id=\"1005\"></div>\n"
      ]
     },
     "metadata": {},
     "output_type": "display_data"
    },
    {
     "data": {
      "application/javascript": [
       "(function(root) {\n",
       "  function embed_document(root) {\n",
       "    \n",
       "  const docs_json = {\"e279ee5d-0ab0-46e9-afcd-1e6b3953bd72\":{\"defs\":[],\"roots\":{\"references\":[{\"attributes\":{\"below\":[{\"id\":\"1016\"}],\"center\":[{\"id\":\"1019\"},{\"id\":\"1023\"}],\"left\":[{\"id\":\"1020\"}],\"renderers\":[{\"id\":\"1033\"},{\"id\":\"1039\"}],\"title\":{\"id\":\"1006\"},\"toolbar\":{\"id\":\"1025\"},\"x_range\":{\"id\":\"1008\"},\"x_scale\":{\"id\":\"1012\"},\"y_range\":{\"id\":\"1010\"},\"y_scale\":{\"id\":\"1014\"}},\"id\":\"1005\",\"subtype\":\"Figure\",\"type\":\"Plot\"},{\"attributes\":{},\"id\":\"1049\",\"type\":\"Selection\"},{\"attributes\":{\"source\":{\"id\":\"1003\"}},\"id\":\"1040\",\"type\":\"CDSView\"},{\"attributes\":{\"callback\":null,\"tooltips\":[[\"Nombre\",\"@Nombre\"],[\"Ranking\",\"@Ranking\"],[\"Ventas\",\"@Ventas_global\"],[\"Editora\",\"@Editora\"]]},\"id\":\"1004\",\"type\":\"HoverTool\"},{\"attributes\":{\"fill_alpha\":{\"value\":0.2},\"fill_color\":{\"value\":\"purple\"},\"hatch_alpha\":{\"value\":0.2},\"hatch_color\":{\"value\":\"purple\"},\"line_alpha\":{\"value\":0.2},\"line_color\":{\"value\":\"purple\"},\"size\":{\"value\":5},\"x\":{\"field\":\"A\\u00f1o\"},\"y\":{\"field\":\"Ventas_global\"}},\"id\":\"1038\",\"type\":\"Circle\"},{\"attributes\":{\"coordinates\":null,\"data_source\":{\"id\":\"1003\"},\"glyph\":{\"id\":\"1036\"},\"group\":null,\"hover_glyph\":null,\"muted_glyph\":{\"id\":\"1038\"},\"nonselection_glyph\":{\"id\":\"1037\"},\"view\":{\"id\":\"1040\"}},\"id\":\"1039\",\"type\":\"GlyphRenderer\"},{\"attributes\":{},\"id\":\"1048\",\"type\":\"UnionRenderers\"},{\"attributes\":{\"coordinates\":null,\"data_source\":{\"id\":\"1003\"},\"glyph\":{\"id\":\"1030\"},\"group\":null,\"hover_glyph\":null,\"muted_glyph\":{\"id\":\"1032\"},\"nonselection_glyph\":{\"id\":\"1031\"},\"view\":{\"id\":\"1034\"}},\"id\":\"1033\",\"type\":\"GlyphRenderer\"},{\"attributes\":{\"source\":{\"id\":\"1003\"}},\"id\":\"1034\",\"type\":\"CDSView\"},{\"attributes\":{\"line_alpha\":0.2,\"line_color\":\"blue\",\"line_width\":3,\"x\":{\"field\":\"A\\u00f1o\"},\"y\":{\"field\":\"Ventas_global\"}},\"id\":\"1032\",\"type\":\"Line\"},{\"attributes\":{},\"id\":\"1043\",\"type\":\"BasicTickFormatter\"},{\"attributes\":{},\"id\":\"1024\",\"type\":\"CrosshairTool\"},{\"attributes\":{},\"id\":\"1021\",\"type\":\"BasicTicker\"},{\"attributes\":{\"axis_label\":\"Ventas Globales\",\"coordinates\":null,\"formatter\":{\"id\":\"1043\"},\"group\":null,\"major_label_policy\":{\"id\":\"1044\"},\"ticker\":{\"id\":\"1021\"}},\"id\":\"1020\",\"type\":\"LinearAxis\"},{\"attributes\":{\"line_color\":\"blue\",\"line_width\":3,\"x\":{\"field\":\"A\\u00f1o\"},\"y\":{\"field\":\"Ventas_global\"}},\"id\":\"1030\",\"type\":\"Line\"},{\"attributes\":{},\"id\":\"1044\",\"type\":\"AllLabels\"},{\"attributes\":{\"tools\":[{\"id\":\"1004\"},{\"id\":\"1024\"},{\"id\":\"1004\"}]},\"id\":\"1025\",\"type\":\"Toolbar\"},{\"attributes\":{\"axis\":{\"id\":\"1020\"},\"coordinates\":null,\"dimension\":1,\"group\":null,\"ticker\":null},\"id\":\"1023\",\"type\":\"Grid\"},{\"attributes\":{},\"id\":\"1046\",\"type\":\"BasicTickFormatter\"},{\"attributes\":{\"line_alpha\":0.1,\"line_color\":\"blue\",\"line_width\":3,\"x\":{\"field\":\"A\\u00f1o\"},\"y\":{\"field\":\"Ventas_global\"}},\"id\":\"1031\",\"type\":\"Line\"},{\"attributes\":{},\"id\":\"1012\",\"type\":\"LinearScale\"},{\"attributes\":{\"fill_alpha\":{\"value\":0.1},\"fill_color\":{\"value\":\"purple\"},\"hatch_alpha\":{\"value\":0.1},\"hatch_color\":{\"value\":\"purple\"},\"line_alpha\":{\"value\":0.1},\"line_color\":{\"value\":\"purple\"},\"size\":{\"value\":5},\"x\":{\"field\":\"A\\u00f1o\"},\"y\":{\"field\":\"Ventas_global\"}},\"id\":\"1037\",\"type\":\"Circle\"},{\"attributes\":{},\"id\":\"1047\",\"type\":\"AllLabels\"},{\"attributes\":{\"axis_label\":\"A\\u00f1o\",\"coordinates\":null,\"formatter\":{\"id\":\"1046\"},\"group\":null,\"major_label_policy\":{\"id\":\"1047\"},\"ticker\":{\"id\":\"1017\"}},\"id\":\"1016\",\"type\":\"LinearAxis\"},{\"attributes\":{},\"id\":\"1014\",\"type\":\"LinearScale\"},{\"attributes\":{},\"id\":\"1017\",\"type\":\"BasicTicker\"},{\"attributes\":{\"axis\":{\"id\":\"1016\"},\"coordinates\":null,\"group\":null,\"ticker\":null},\"id\":\"1019\",\"type\":\"Grid\"},{\"attributes\":{},\"id\":\"1008\",\"type\":\"DataRange1d\"},{\"attributes\":{\"coordinates\":null,\"group\":null,\"text\":\"Top 20 mejores ventas videojuegos\"},\"id\":\"1006\",\"type\":\"Title\"},{\"attributes\":{},\"id\":\"1010\",\"type\":\"DataRange1d\"},{\"attributes\":{\"data\":{\"A\\u00f1o\":{\"__ndarray__\":\"AAAAAAAAn0AAAAAAAASfQAAAAAAAFJ9AAAAAAAAYn0AAAAAAADCfQAAAAAAAPJ9AAAAAAABQn0AAAAAAAFSfQAAAAAAAVJ9AAAAAAABUn0AAAAAAAFifQAAAAAAAWJ9AAAAAAABYn0AAAAAAAFyfQAAAAAAAYJ9AAAAAAABkn0AAAAAAAGSfQAAAAAAAZJ9AAAAAAABon0AAAAAAAHSfQA==\",\"dtype\":\"float64\",\"order\":\"little\",\"shape\":[20]},\"EEUU_ventas\":{\"__ndarray__\":\"rkfhehTuOkAUrkfhehQ9QDMzMzMzMzdAj8L1KFyPKUAK16NwPYomQAAAAAAAACJAXI/C9SjcIkAfhetRuJ4jQAAAAAAAABNApHA9CtcjIkDD9Shcj8ImQI/C9ShcDyxAH4XrUbi+REDhehSuR+EhQDMzMzMzsy9ArkfhehQuIkCuR+F6FC4tQAAAAAAAgC9AcT0K16PwLUAK16NwPQocQA==\",\"dtype\":\"float64\",\"order\":\"little\",\"shape\":[20]},\"Editora\":[\"Nintendo\",\"Nintendo\",\"Nintendo\",\"Nintendo\",\"Nintendo\",\"Nintendo\",\"Take-Two Interactive\",\"Nintendo\",\"Nintendo\",\"Nintendo\",\"Nintendo\",\"Nintendo\",\"Nintendo\",\"Nintendo\",\"Nintendo\",\"Nintendo\",\"Nintendo\",\"Nintendo\",\"Microsoft Game Studios\",\"Take-Two Interactive\"],\"Euro_ventas\":{\"__ndarray__\":\"KVyPwvUo5D+kcD0K16MMQBSuR+F6FAJAAAAAAAAADkBI4XoUrschQLgehetRuBhAmpmZmZmZ2T9I4XoUrkceQIXrUbgehSJAAAAAAAAAJkD2KFyPwnUiQGZmZmZmZiJAhetRuB4FPUCPwvUoXA8gQMP1KFyPwilArkfhehQuIUA9CtejcD0cQIXrUbgeBSZAw/UoXI/CE0AK16NwPYoiQA==\",\"dtype\":\"float64\",\"order\":\"little\",\"shape\":[20]},\"Genero\":[\"Shooter\",\"Platform\",\"Puzzle\",\"Platform\",\"Role-Playing\",\"Role-Playing\",\"Action\",\"Racing\",\"Misc\",\"Simulation\",\"Platform\",\"Misc\",\"Sports\",\"Sports\",\"Racing\",\"Sports\",\"Platform\",\"Sports\",\"Misc\",\"Action\"],\"Japon_ventas\":{\"__ndarray__\":\"7FG4HoXr0T89CtejcD0bQOF6FK5H4RBAUrgehetRDEBxPQrXo3AkQM3MzMzMzBxAPQrXo3A92j+F61G4HoUQQKRwPQrXoxBA4XoUrkfh/j8AAAAAAAAaQHE9CtejcAdAKVyPwvUoDkDNzMzMzMwMQFK4HoXrUQ5APQrXo3A9BEDNzMzMzMwSQD0K16NwPQpAuB6F61G4zj8K16NwPQrvPw==\",\"dtype\":\"float64\",\"order\":\"little\",\"shape\":[20]},\"Nombre\":[\"Duck Hunt\",\"Super Mario Bros.\",\"Tetris\",\"Super Mario World\",\"Pokemon Red/Pokemon Blue\",\"Pokemon Gold/Pokemon Silver\",\"Grand Theft Auto: San Andreas\",\"Mario Kart DS\",\"Brain Age: Train Your Brain in Minutes a Day\",\"Nintendogs\",\"New Super Mario Bros.\",\"Wii Play\",\"Wii Sports\",\"Wii Fit\",\"Mario Kart Wii\",\"Wii Fit Plus\",\"New Super Mario Bros. Wii\",\"Wii Sports Resort\",\"Kinect Adventures!\",\"Grand Theft Auto V\"],\"Plataforma\":[\"NES\",\"NES\",\"GB\",\"SNES\",\"GB\",\"GB\",\"PS2\",\"DS\",\"DS\",\"DS\",\"DS\",\"Wii\",\"Wii\",\"Wii\",\"Wii\",\"Wii\",\"Wii\",\"Wii\",\"X360\",\"PS3\"],\"Ranking\":[10,2,6,19,5,13,18,12,20,11,7,8,1,14,3,15,9,4,16,17],\"Resto_pais_ventas\":{\"__ndarray__\":\"FK5H4XoU3j+kcD0K16PoP4/C9Shcj+I/mpmZmZmZ4T8AAAAAAADwP7gehetRuOY/pHA9CtcjJUC4HoXrUbj+P2ZmZmZmZgBAAAAAAAAABkAzMzMzMzMHQM3MzMzMzAZA7FG4HoXrIEAzMzMzMzMBQHsUrkfhegpApHA9Ctej/D8UrkfhehQCQK5H4XoUrgdAuB6F61G4+j+PwvUoXI8QQA==\",\"dtype\":\"float64\",\"order\":\"little\",\"shape\":[20]},\"Ventas_global\":{\"__ndarray__\":\"j8L1KFxPPEAfhetRuB5EQMP1KFyPQj5AXI/C9SicNEAfhetRuF4/QJqZmZmZGTdAj8L1KFzPNEDsUbgehWs3QLgehetRODRAw/UoXI/COEDD9ShcjwI+QIXrUbgeBT1Aj8L1KFyvVEC4HoXrUbg2QClcj8L16EFAAAAAAAAANkAfhetRuJ48QAAAAAAAgEBAUrgehevRNUBmZmZmZmY1QA==\",\"dtype\":\"float64\",\"order\":\"little\",\"shape\":[20]},\"index\":[9,1,5,18,4,12,17,11,19,10,6,7,0,13,2,14,8,3,15,16]},\"selected\":{\"id\":\"1049\"},\"selection_policy\":{\"id\":\"1048\"}},\"id\":\"1003\",\"type\":\"ColumnDataSource\"},{\"attributes\":{\"fill_color\":{\"value\":\"purple\"},\"hatch_color\":{\"value\":\"purple\"},\"line_color\":{\"value\":\"purple\"},\"size\":{\"value\":5},\"x\":{\"field\":\"A\\u00f1o\"},\"y\":{\"field\":\"Ventas_global\"}},\"id\":\"1036\",\"type\":\"Circle\"}],\"root_ids\":[\"1005\"]},\"title\":\"Bokeh Application\",\"version\":\"2.4.1\"}};\n",
       "  const render_items = [{\"docid\":\"e279ee5d-0ab0-46e9-afcd-1e6b3953bd72\",\"root_ids\":[\"1005\"],\"roots\":{\"1005\":\"8599d121-9d4c-43f2-b3e6-41c5ca380666\"}}];\n",
       "  root.Bokeh.embed.embed_items_notebook(docs_json, render_items);\n",
       "\n",
       "  }\n",
       "  if (root.Bokeh !== undefined) {\n",
       "    embed_document(root);\n",
       "  } else {\n",
       "    let attempts = 0;\n",
       "    const timer = setInterval(function(root) {\n",
       "      if (root.Bokeh !== undefined) {\n",
       "        clearInterval(timer);\n",
       "        embed_document(root);\n",
       "      } else {\n",
       "        attempts++;\n",
       "        if (attempts > 100) {\n",
       "          clearInterval(timer);\n",
       "          console.log(\"Bokeh: ERROR: Unable to run BokehJS code because BokehJS library is missing\");\n",
       "        }\n",
       "      }\n",
       "    }, 10, root)\n",
       "  }\n",
       "})(window);"
      ],
      "application/vnd.bokehjs_exec.v0+json": ""
     },
     "metadata": {
      "application/vnd.bokehjs_exec.v0+json": {
       "id": "1005"
      }
     },
     "output_type": "display_data"
    }
   ],
   "source": [
    "top20_videojuegos = df[df['Ranking'] <= 20]\n",
    "\n",
    "from bokeh.io import output_notebook, show\n",
    "from bokeh.plotting import figure\n",
    "from bokeh.models import HoverTool, ColumnDataSource\n",
    "\n",
    "output_notebook()\n",
    "source= ColumnDataSource(top20_videojuegos)\n",
    "hover= HoverTool(tooltips=[('Nombre','@Nombre'),('Ranking','@Ranking'),('Ventas','@Ventas_global'),('Editora', '@Editora')])\n",
    "\n",
    "plot = figure(tools=[hover, 'crosshair'], x_axis_label='Año', y_axis_label='Ventas Globales',y_axis_type='linear', title='Top 20 mejores ventas videojuegos')\n",
    "plot.add_tools(hover)\n",
    "plot.line(x='Año', y='Ventas_global', line_width=3, line_color='blue', source=source )\n",
    "plot.circle(x='Año', y='Ventas_global', size=5, source=source, color='purple' )\n",
    "\n",
    "show(plot)"
   ]
  },
  {
   "cell_type": "markdown",
   "id": "9379d231",
   "metadata": {},
   "source": [
    "**Que géneros han participado en más ventas?\n",
    "\n",
    "*Con un histograma visualizamos que, el género más vendido fue el de acción, seguido el de deporte.*"
   ]
  },
  {
   "cell_type": "code",
   "execution_count": 12,
   "id": "3982127f",
   "metadata": {
    "scrolled": true
   },
   "outputs": [
    {
     "data": {
      "text/plain": [
       "[Text(0, 0.5, 'Ventas')]"
      ]
     },
     "execution_count": 12,
     "metadata": {},
     "output_type": "execute_result"
    },
    {
     "data": {
      "image/png": "[encoded data removed]",
      "text/plain": [
       "<Figure size 1008x432 with 1 Axes>"
      ]
     },
     "metadata": {
      "needs_background": "light"
     },
     "output_type": "display_data"
    }
   ],
   "source": [
    "plt_1 = plt.figure(figsize=(14,6))\n",
    "d2 = sns.histplot(data=df, x=\"Genero\")\n",
    "d2.set(title = \"Géneros con más Ventas\")\n",
    "d2.set(xlabel = \"Géneros\")\n",
    "d2.set(ylabel = \"Ventas\")"
   ]
  },
  {
   "cell_type": "markdown",
   "id": "0b14f632",
   "metadata": {},
   "source": [
    "**Cuales fueron los géneros más vendidos en la plataforma xbox 360?.**\n"
   ]
  },
  {
   "cell_type": "code",
   "execution_count": 9,
   "id": "546e979a",
   "metadata": {},
   "outputs": [
    {
     "data": {
      "text/html": [
       "<div>\n",
       "<style scoped>\n",
       "    .dataframe tbody tr th:only-of-type {\n",
       "        vertical-align: middle;\n",
       "    }\n",
       "\n",
       "    .dataframe tbody tr th {\n",
       "        vertical-align: top;\n",
       "    }\n",
       "\n",
       "    .dataframe thead th {\n",
       "        text-align: right;\n",
       "    }\n",
       "</style>\n",
       "<table border=\"1\" class=\"dataframe\">\n",
       "  <thead>\n",
       "    <tr style=\"text-align: right;\">\n",
       "      <th></th>\n",
       "      <th>Ranking</th>\n",
       "      <th>Nombre</th>\n",
       "      <th>Plataforma</th>\n",
       "      <th>Año</th>\n",
       "      <th>Genero</th>\n",
       "      <th>Editora</th>\n",
       "      <th>EEUU_ventas</th>\n",
       "      <th>Euro_ventas</th>\n",
       "      <th>Japon_ventas</th>\n",
       "      <th>Resto_pais_ventas</th>\n",
       "      <th>Ventas_global</th>\n",
       "    </tr>\n",
       "  </thead>\n",
       "  <tbody>\n",
       "    <tr>\n",
       "      <th>7590</th>\n",
       "      <td>7592</td>\n",
       "      <td>Ridge Racer 6</td>\n",
       "      <td>X360</td>\n",
       "      <td>2005.0</td>\n",
       "      <td>Racing</td>\n",
       "      <td>Namco Bandai Games</td>\n",
       "      <td>0.10</td>\n",
       "      <td>0.02</td>\n",
       "      <td>0.07</td>\n",
       "      <td>0.01</td>\n",
       "      <td>0.20</td>\n",
       "    </tr>\n",
       "    <tr>\n",
       "      <th>1530</th>\n",
       "      <td>1532</td>\n",
       "      <td>Need for Speed: Most Wanted</td>\n",
       "      <td>X360</td>\n",
       "      <td>2005.0</td>\n",
       "      <td>Racing</td>\n",
       "      <td>Electronic Arts</td>\n",
       "      <td>1.00</td>\n",
       "      <td>0.17</td>\n",
       "      <td>0.02</td>\n",
       "      <td>0.10</td>\n",
       "      <td>1.29</td>\n",
       "    </tr>\n",
       "    <tr>\n",
       "      <th>7027</th>\n",
       "      <td>7029</td>\n",
       "      <td>NBA 2K6</td>\n",
       "      <td>X360</td>\n",
       "      <td>2005.0</td>\n",
       "      <td>Action</td>\n",
       "      <td>Take-Two Interactive</td>\n",
       "      <td>0.21</td>\n",
       "      <td>0.01</td>\n",
       "      <td>0.00</td>\n",
       "      <td>0.02</td>\n",
       "      <td>0.23</td>\n",
       "    </tr>\n",
       "    <tr>\n",
       "      <th>10652</th>\n",
       "      <td>10654</td>\n",
       "      <td>NHL 2K6</td>\n",
       "      <td>X360</td>\n",
       "      <td>2005.0</td>\n",
       "      <td>Sports</td>\n",
       "      <td>Take-Two Interactive</td>\n",
       "      <td>0.09</td>\n",
       "      <td>0.00</td>\n",
       "      <td>0.00</td>\n",
       "      <td>0.01</td>\n",
       "      <td>0.10</td>\n",
       "    </tr>\n",
       "    <tr>\n",
       "      <th>5776</th>\n",
       "      <td>5778</td>\n",
       "      <td>Tiger Woods PGA Tour 06</td>\n",
       "      <td>X360</td>\n",
       "      <td>2005.0</td>\n",
       "      <td>Sports</td>\n",
       "      <td>Electronic Arts</td>\n",
       "      <td>0.28</td>\n",
       "      <td>0.00</td>\n",
       "      <td>0.00</td>\n",
       "      <td>0.02</td>\n",
       "      <td>0.31</td>\n",
       "    </tr>\n",
       "  </tbody>\n",
       "</table>\n",
       "</div>"
      ],
      "text/plain": [
       "       Ranking                       Nombre Plataforma     Año  Genero  \\\n",
       "7590      7592                Ridge Racer 6       X360  2005.0  Racing   \n",
       "1530      1532  Need for Speed: Most Wanted       X360  2005.0  Racing   \n",
       "7027      7029                      NBA 2K6       X360  2005.0  Action   \n",
       "10652    10654                      NHL 2K6       X360  2005.0  Sports   \n",
       "5776      5778      Tiger Woods PGA Tour 06       X360  2005.0  Sports   \n",
       "\n",
       "                    Editora  EEUU_ventas  Euro_ventas  Japon_ventas  \\\n",
       "7590     Namco Bandai Games         0.10         0.02          0.07   \n",
       "1530        Electronic Arts         1.00         0.17          0.02   \n",
       "7027   Take-Two Interactive         0.21         0.01          0.00   \n",
       "10652  Take-Two Interactive         0.09         0.00          0.00   \n",
       "5776        Electronic Arts         0.28         0.00          0.00   \n",
       "\n",
       "       Resto_pais_ventas  Ventas_global  \n",
       "7590                0.01           0.20  \n",
       "1530                0.10           1.29  \n",
       "7027                0.02           0.23  \n",
       "10652               0.01           0.10  \n",
       "5776                0.02           0.31  "
      ]
     },
     "metadata": {},
     "output_type": "display_data"
    },
    {
     "name": "stdout",
     "output_type": "stream",
     "text": [
      "(1259, 11)\n"
     ]
    },
    {
     "data": {
      "image/png": "[encoded data removed]",
      "text/plain": [
       "<Figure size 936x504 with 1 Axes>"
      ]
     },
     "metadata": {
      "needs_background": "light"
     },
     "output_type": "display_data"
    }
   ],
   "source": [
    "xbox_360 = df[(df.Plataforma == 'X360')]\n",
    "xbox_360.Genero.unique()\n",
    "display(xbox_360.head())\n",
    "print(xbox_360.shape)\n",
    "\n",
    "plt.figure(figsize=(13,7))\n",
    "sns.countplot(x='Genero', data=xbox_360)\n",
    "plt.xlabel('Genero')\n",
    "plt.ylabel('Cantidad')\n",
    "plt.title('Géneros XBOX 360')\n",
    "plt.show()"
   ]
  },
  {
   "cell_type": "markdown",
   "id": "a07b7553",
   "metadata": {},
   "source": [
    "# Sección 3\n",
    "\n",
    "# Regresión Lineal\n",
    "\n",
    "**En este apartado, empezaremos a abordar conceptos estadíticos para una mejor comprensión de nuestro proyecto**"
   ]
  },
  {
   "cell_type": "markdown",
   "id": "ada0c95f",
   "metadata": {},
   "source": [
    "*Con el heatmap, observamos que existe una fuerte correlación en las ventas realizadas en EEUU y Europa* "
   ]
  },
  {
   "cell_type": "code",
   "execution_count": 10,
   "id": "690924a2",
   "metadata": {},
   "outputs": [
    {
     "data": {
      "image/png": "[encoded data removed]",
      "text/plain": [
       "<Figure size 720x360 with 2 Axes>"
      ]
     },
     "metadata": {
      "needs_background": "light"
     },
     "output_type": "display_data"
    }
   ],
   "source": [
    "correlacion= df.corr()\n",
    "\n",
    "fig, ax = plt.subplots(figsize=(10,5))\n",
    "\n",
    "sns.heatmap(correlacion,annot=True, cmap= 'Reds')\n",
    "plt.show()"
   ]
  },
  {
   "cell_type": "markdown",
   "id": "3d4d224a",
   "metadata": {},
   "source": [
    "**A través de la librería statsmodels observamos que si se suman los valores las ventas realizadas en EEUU y Europa, la correlación en más notoria**"
   ]
  },
  {
   "cell_type": "code",
   "execution_count": 11,
   "id": "f51235f4",
   "metadata": {
    "scrolled": false
   },
   "outputs": [
    {
     "name": "stdout",
     "output_type": "stream",
     "text": [
      "                            OLS Regression Results                            \n",
      "==============================================================================\n",
      "Dep. Variable:          Ventas_global   R-squared:                       0.965\n",
      "Model:                            OLS   Adj. R-squared:                  0.965\n",
      "Method:                 Least Squares   F-statistic:                 2.271e+05\n",
      "Date:                Sun, 09 Oct 2022   Prob (F-statistic):               0.00\n",
      "Time:                        15:31:27   Log-Likelihood:                -3111.7\n",
      "No. Observations:               16572   AIC:                             6229.\n",
      "Df Residuals:                   16569   BIC:                             6253.\n",
      "Df Model:                           2                                         \n",
      "Covariance Type:            nonrobust                                         \n",
      "===============================================================================\n",
      "                  coef    std err          t      P>|t|      [0.025      0.975]\n",
      "-------------------------------------------------------------------------------\n",
      "Intercept       0.0349      0.002     14.615      0.000       0.030       0.040\n",
      "Euro_ventas     1.3517      0.007    193.133      0.000       1.338       1.365\n",
      "EEUU_ventas     1.1497      0.004    265.457      0.000       1.141       1.158\n",
      "==============================================================================\n",
      "Omnibus:                    24718.740   Durbin-Watson:                   1.902\n",
      "Prob(Omnibus):                  0.000   Jarque-Bera (JB):         21794264.107\n",
      "Skew:                           8.893   Prob(JB):                         0.00\n",
      "Kurtosis:                     179.767   Cond. No.                         3.90\n",
      "==============================================================================\n",
      "\n",
      "Notes:\n",
      "[1] Standard Errors assume that the covariance matrix of the errors is correctly specified.\n"
     ]
    }
   ],
   "source": [
    "import statsmodels.formula.api as smf\n",
    "model = smf.ols('Ventas_global ~ Euro_ventas + EEUU_ventas', data = df)#Dependiente ~ Independiente\n",
    "model = model.fit()\n",
    "print(model.summary())"
   ]
  },
  {
   "cell_type": "code",
   "execution_count": 15,
   "id": "fb20a15b",
   "metadata": {},
   "outputs": [
    {
     "name": "stdout",
     "output_type": "stream",
     "text": [
      "Defaulting to user installation because normal site-packages is not writeable\n",
      "Requirement already satisfied: plotly in c:\\users\\ariel\\appdata\\roaming\\python\\python39\\site-packages (5.10.0)\n",
      "Requirement already satisfied: tenacity>=6.2.0 in c:\\users\\ariel\\appdata\\roaming\\python\\python39\\site-packages (from plotly) (8.0.1)\n"
     ]
    }
   ],
   "source": [
    "!pip install plotly"
   ]
  },
  {
   "cell_type": "code",
   "execution_count": 17,
   "id": "80c1f317",
   "metadata": {},
   "outputs": [],
   "source": [
    "import plotly.express as px\n",
    "import plotly.graph_objects as go"
   ]
  },
  {
   "cell_type": "code",
   "execution_count": 21,
   "id": "aa1e8219",
   "metadata": {},
   "outputs": [],
   "source": [
    "data = df.query(\"Año>=2000 and Año <=2016\")"
   ]
  },
  {
   "cell_type": "code",
   "execution_count": 22,
   "id": "56192444",
   "metadata": {},
   "outputs": [],
   "source": [
    "temp = data.pivot_table(values='Ventas_global', index='Año', columns='Plataforma',\n",
    "                        aggfunc='sum').fillna(0).reset_index()\n",
    "temp_ = data.groupby(['Año', 'Plataforma'])['Ventas_global'].sum().reset_index()\n",
    "t = temp_.groupby(['Año'])['Ventas_global'].nlargest(10).reset_index().level_1.values\n",
    "order = temp_.iloc[t]['Plataforma'].unique()\n",
    "colors = sns.color_palette(\"Spectral\", len(temp.columns)-1)"
   ]
  },
  {
   "cell_type": "code",
   "execution_count": 24,
   "id": "eef84b51",
   "metadata": {
    "scrolled": true
   },
   "outputs": [
    {
     "data": {
      "application/vnd.plotly.v1+json": {
       "config": {
        "plotlyServerURL": "https://plot.ly"
       },
       "data": [
        {
         "marker": {
          "color": "rgb(0.7211072664359862, 0.11649365628604381, 0.28281430219146486)"
         },
         "name": "PS",
         "text": "PS",
         "type": "bar",
         "x": [
          2000,
          2001,
          2002,
          2003,
          2004,
          2005,
          2006,
          2007,
          2008,
          2009,
          2010,
          2011,
          2012,
          2013,
          2014,
          2015,
          2016
         ],
         "y": [
          96.28,
          35.52,
          6.6899999999999995,
          2.05,
          0,
          0,
          0,
          0,
          0,
          0,
          0,
          0,
          0,
          0,
          0,
          0,
          0
         ]
        },
        {
         "marker": {
          "color": "rgb(0.8226066897347175, 0.22906574394463664, 0.30680507497116494)"
         },
         "name": "PS2",
         "text": "PS2",
         "type": "bar",
         "x": [
          2000,
          2001,
          2002,
          2003,
          2004,
          2005,
          2006,
          2007,
          2008,
          2009,
          2010,
          2011,
          2012,
          2013,
          2014,
          2015,
          2016
         ],
         "y": [
          39.11,
          166.43,
          205.4,
          184.29,
          211.78,
          160.65,
          103.42,
          75.99,
          53.83,
          26.45,
          5.63,
          0.47000000000000003,
          0,
          0,
          0,
          0,
          0
         ]
        },
        {
         "marker": {
          "color": "rgb(0.8853517877739331, 0.3190311418685121, 0.29042675893886966)"
         },
         "name": "N64",
         "text": "N64",
         "type": "bar",
         "x": [
          2000,
          2001,
          2002,
          2003,
          2004,
          2005,
          2006,
          2007,
          2008,
          2009,
          2010,
          2011,
          2012,
          2013,
          2014,
          2015,
          2016
         ],
         "y": [
          34.01,
          3.2600000000000002,
          0.08,
          0,
          0,
          0,
          0,
          0,
          0,
          0,
          0,
          0,
          0,
          0,
          0,
          0,
          0
         ]
        },
        {
         "marker": {
          "color": "rgb(0.942560553633218, 0.4057670126874279, 0.2682814302191465)"
         },
         "name": "GB",
         "text": "GB",
         "type": "bar",
         "x": [
          2000,
          2001,
          2002,
          2003,
          2004,
          2005,
          2006,
          2007,
          2008,
          2009,
          2010,
          2011,
          2012,
          2013,
          2014,
          2015,
          2016
         ],
         "y": [
          19.76,
          9.24,
          0,
          0,
          0,
          0,
          0,
          0,
          0,
          0,
          0,
          0,
          0,
          0,
          0,
          0,
          0
         ]
        },
        {
         "marker": {
          "color": "rgb(0.9693194925028835, 0.5174163783160323, 0.30426758938869664)"
         },
         "name": "DC",
         "text": "DC",
         "type": "bar",
         "x": [
          2000,
          2001,
          2002,
          2003,
          2004,
          2005,
          2006,
          2007,
          2008,
          2009,
          2010,
          2011,
          2012,
          2013,
          2014,
          2015,
          2016
         ],
         "y": [
          5.99,
          1.07,
          0.29,
          0,
          0,
          0,
          0,
          0.02,
          0.04,
          0,
          0,
          0,
          0,
          0,
          0,
          0,
          0
         ]
        },
        {
         "marker": {
          "color": "rgb(0.9873125720876587, 0.6473663975394078, 0.3642445213379469)"
         },
         "name": "PC",
         "text": "PC",
         "type": "bar",
         "x": [
          2000,
          2001,
          2002,
          2003,
          2004,
          2005,
          2006,
          2007,
          2008,
          2009,
          2010,
          2011,
          2012,
          2013,
          2014,
          2015,
          2016
         ],
         "y": [
          4.68,
          5.51,
          8.6,
          8.96,
          10.46,
          4.47,
          2.9699999999999998,
          9.4,
          12.67,
          17.16,
          24.46,
          35.25,
          23.53,
          12.83,
          13.39,
          8.07,
          2.6
         ]
        },
        {
         "marker": {
          "color": "rgb(0.9934640522875817, 0.7477124183006535, 0.4352941176470587)"
         },
         "name": "XB",
         "text": "XB",
         "type": "bar",
         "x": [
          2000,
          2001,
          2002,
          2003,
          2004,
          2005,
          2006,
          2007,
          2008,
          2009,
          2010,
          2011,
          2012,
          2013,
          2014,
          2015,
          2016
         ],
         "y": [
          0.99,
          22.24,
          48.15,
          55.160000000000004,
          65.5,
          49.17,
          10.15,
          0.5499999999999999,
          0.18,
          0,
          0,
          0,
          0,
          0,
          0,
          0,
          0
         ]
        },
        {
         "marker": {
          "color": "rgb(0.9953094963475586, 0.8399846212995001, 0.5128027681660899)"
         },
         "name": "WS",
         "text": "WS",
         "type": "bar",
         "x": [
          2000,
          2001,
          2002,
          2003,
          2004,
          2005,
          2006,
          2007,
          2008,
          2009,
          2010,
          2011,
          2012,
          2013,
          2014,
          2015,
          2016
         ],
         "y": [
          0.68,
          0.28,
          0,
          0,
          0,
          0,
          0,
          0,
          0,
          0,
          0,
          0,
          0,
          0,
          0,
          0,
          0
         ]
        },
        {
         "marker": {
          "color": "rgb(0.9971549404075356, 0.9118031526336025, 0.6010765090349866)"
         },
         "name": "GBA",
         "text": "GBA",
         "type": "bar",
         "x": [
          2000,
          2001,
          2002,
          2003,
          2004,
          2005,
          2006,
          2007,
          2008,
          2009,
          2010,
          2011,
          2012,
          2013,
          2014,
          2015,
          2016
         ],
         "y": [
          0.06,
          61.62,
          74.38,
          56.73,
          78.09,
          33.9,
          5.3500000000000005,
          3.43,
          0,
          0,
          0,
          0,
          0,
          0,
          0,
          0,
          0
         ]
        },
        {
         "marker": {
          "color": "rgb(0.9990003844675125, 0.9690119184928874, 0.697039600153787)"
         },
         "name": "GC",
         "text": "GC",
         "type": "bar",
         "x": [
          2000,
          2001,
          2002,
          2003,
          2004,
          2005,
          2006,
          2007,
          2008,
          2009,
          2010,
          2011,
          2012,
          2013,
          2014,
          2015,
          2016
         ],
         "y": [
          0,
          26.3,
          51.93,
          50.660000000000004,
          28.89,
          27.8,
          11.290000000000001,
          0.27,
          0,
          0,
          0,
          0,
          0,
          0,
          0,
          0,
          0
         ]
        },
        {
         "marker": {
          "color": "rgb(0.9750096116878124, 0.9900038446751249, 0.7100346020761246)"
         },
         "name": "DS",
         "text": "DS",
         "type": "bar",
         "x": [
          2000,
          2001,
          2002,
          2003,
          2004,
          2005,
          2006,
          2007,
          2008,
          2009,
          2010,
          2011,
          2012,
          2013,
          2014,
          2015,
          2016
         ],
         "y": [
          0,
          0,
          0,
          0,
          17.46,
          131.4,
          121.15,
          149.35999999999999,
          147.89,
          121.99,
          87.98,
          27.8,
          11.64,
          1.96,
          0.02,
          0,
          0
         ]
        },
        {
         "marker": {
          "color": "rgb(0.9288735101883892, 0.9715494040753557, 0.6380622837370243)"
         },
         "name": "PSP",
         "text": "PSP",
         "type": "bar",
         "x": [
          2000,
          2001,
          2002,
          2003,
          2004,
          2005,
          2006,
          2007,
          2008,
          2009,
          2010,
          2011,
          2012,
          2013,
          2014,
          2015,
          2016
         ],
         "y": [
          0,
          0,
          0,
          0,
          7.13,
          44.230000000000004,
          55.85,
          47.48,
          34.68,
          38.07,
          35.09,
          17.66,
          7.66,
          3.19,
          0.24,
          0.12,
          0
         ]
        },
        {
         "marker": {
          "color": "rgb(0.8565936178392929, 0.942329873125721, 0.6053056516724337)"
         },
         "name": "X360",
         "text": "X360",
         "type": "bar",
         "x": [
          2000,
          2001,
          2002,
          2003,
          2004,
          2005,
          2006,
          2007,
          2008,
          2009,
          2010,
          2011,
          2012,
          2013,
          2014,
          2015,
          2016
         ],
         "y": [
          0,
          0,
          0,
          0,
          0,
          8.32,
          51.88,
          95.84,
          135.76,
          120.75,
          171.02,
          145.04,
          100.86,
          89.59,
          36.42,
          13.05,
          0.8300000000000001
         ]
        },
        {
         "marker": {
          "color": "rgb(0.7477124183006538, 0.8980392156862746, 0.6274509803921569)"
         },
         "name": "Wii",
         "text": "Wii",
         "type": "bar",
         "x": [
          2000,
          2001,
          2002,
          2003,
          2004,
          2005,
          2006,
          2007,
          2008,
          2009,
          2010,
          2011,
          2012,
          2013,
          2014,
          2015,
          2016
         ],
         "y": [
          0,
          0,
          0,
          0,
          0,
          0,
          137.91,
          154.97,
          174.16,
          210.44,
          131.8,
          62.41,
          22.77,
          9.36,
          4.4399999999999995,
          1.5499999999999998,
          0
         ]
        },
        {
         "marker": {
          "color": "rgb(0.6334486735870821, 0.8521337946943485, 0.6436755094194541)"
         },
         "name": "PS3",
         "text": "PS3",
         "type": "bar",
         "x": [
          2000,
          2001,
          2002,
          2003,
          2004,
          2005,
          2006,
          2007,
          2008,
          2009,
          2010,
          2011,
          2012,
          2013,
          2014,
          2015,
          2016
         ],
         "y": [
          0,
          0,
          0,
          0,
          0,
          0,
          21.07,
          73.81,
          119.69,
          132.34,
          144.42,
          159.37,
          109.28,
          117.33,
          50.96,
          18.18,
          2.59
         ]
        },
        {
         "marker": {
          "color": "rgb(0.4955017301038063, 0.7981545559400232, 0.6456747404844291)"
         },
         "name": "3DS",
         "text": "3DS",
         "type": "bar",
         "x": [
          2000,
          2001,
          2002,
          2003,
          2004,
          2005,
          2006,
          2007,
          2008,
          2009,
          2010,
          2011,
          2012,
          2013,
          2014,
          2015,
          2016
         ],
         "y": [
          0,
          0,
          0,
          0,
          0,
          0,
          0,
          0,
          0,
          0,
          0,
          62.53,
          51.14,
          55.88,
          43.14,
          26.99,
          6.6
         ]
        },
        {
         "marker": {
          "color": "rgb(0.3760092272202999, 0.7340253748558246, 0.6581314878892733)"
         },
         "name": "PSV",
         "text": "PSV",
         "type": "bar",
         "x": [
          2000,
          2001,
          2002,
          2003,
          2004,
          2005,
          2006,
          2007,
          2008,
          2009,
          2010,
          2011,
          2012,
          2013,
          2014,
          2015,
          2016
         ],
         "y": [
          0,
          0,
          0,
          0,
          0,
          0,
          0,
          0,
          0,
          0,
          0,
          5.15,
          18.53,
          12.48,
          14.5,
          7,
          3.4
         ]
        },
        {
         "marker": {
          "color": "rgb(0.2800461361014994, 0.6269896193771626, 0.7024221453287197)"
         },
         "name": "WiiU",
         "text": "WiiU",
         "type": "bar",
         "x": [
          2000,
          2001,
          2002,
          2003,
          2004,
          2005,
          2006,
          2007,
          2008,
          2009,
          2010,
          2011,
          2012,
          2013,
          2014,
          2015,
          2016
         ],
         "y": [
          0,
          0,
          0,
          0,
          0,
          0,
          0,
          0,
          0,
          0,
          0,
          0,
          17.84,
          21.84,
          22.509999999999998,
          16.380000000000003,
          3.29
         ]
        },
        {
         "marker": {
          "color": "rgb(0.20622837370242214, 0.5201845444059977, 0.7349480968858132)"
         },
         "name": "PS4",
         "text": "PS4",
         "type": "bar",
         "x": [
          2000,
          2001,
          2002,
          2003,
          2004,
          2005,
          2006,
          2007,
          2008,
          2009,
          2010,
          2011,
          2012,
          2013,
          2014,
          2015,
          2016
         ],
         "y": [
          0,
          0,
          0,
          0,
          0,
          0,
          0,
          0,
          0,
          0,
          0,
          0,
          0,
          24.76,
          98.76,
          115.24,
          39.25
         ]
        },
        {
         "marker": {
          "color": "rgb(0.2874279123414072, 0.4149942329873126, 0.6851211072664359)"
         },
         "name": "XOne",
         "text": "XOne",
         "type": "bar",
         "x": [
          2000,
          2001,
          2002,
          2003,
          2004,
          2005,
          2006,
          2007,
          2008,
          2009,
          2010,
          2011,
          2012,
          2013,
          2014,
          2015,
          2016
         ],
         "y": [
          0,
          0,
          0,
          0,
          0,
          0,
          0,
          0,
          0,
          0,
          0,
          0,
          0,
          18.6,
          52.43,
          57.66,
          12.37
         ]
        }
       ],
       "layout": {
        "barmode": "stack",
        "height": 600,
        "margin": {
         "b": 20,
         "l": 10,
         "r": 0,
         "t": 40
        },
        "template": {
         "data": {
          "bar": [
           {
            "error_x": {
             "color": "#2a3f5f"
            },
            "error_y": {
             "color": "#2a3f5f"
            },
            "marker": {
             "line": {
              "color": "#E5ECF6",
              "width": 0.5
             },
             "pattern": {
              "fillmode": "overlay",
              "size": 10,
              "solidity": 0.2
             }
            },
            "type": "bar"
           }
          ],
          "barpolar": [
           {
            "marker": {
             "line": {
              "color": "#E5ECF6",
              "width": 0.5
             },
             "pattern": {
              "fillmode": "overlay",
              "size": 10,
              "solidity": 0.2
             }
            },
            "type": "barpolar"
           }
          ],
          "carpet": [
           {
            "aaxis": {
             "endlinecolor": "#2a3f5f",
             "gridcolor": "white",
             "linecolor": "white",
             "minorgridcolor": "white",
             "startlinecolor": "#2a3f5f"
            },
            "baxis": {
             "endlinecolor": "#2a3f5f",
             "gridcolor": "white",
             "linecolor": "white",
             "minorgridcolor": "white",
             "startlinecolor": "#2a3f5f"
            },
            "type": "carpet"
           }
          ],
          "choropleth": [
           {
            "colorbar": {
             "outlinewidth": 0,
             "ticks": ""
            },
            "type": "choropleth"
           }
          ],
          "contour": [
           {
            "colorbar": {
             "outlinewidth": 0,
             "ticks": ""
            },
            "colorscale": [
             [
              0,
              "#0d0887"
             ],
             [
              0.1111111111111111,
              "#46039f"
             ],
             [
              0.2222222222222222,
              "#7201a8"
             ],
             [
              0.3333333333333333,
              "#9c179e"
             ],
             [
              0.4444444444444444,
              "#bd3786"
             ],
             [
              0.5555555555555556,
              "#d8576b"
             ],
             [
              0.6666666666666666,
              "#ed7953"
             ],
             [
              0.7777777777777778,
              "#fb9f3a"
             ],
             [
              0.8888888888888888,
              "#fdca26"
             ],
             [
              1,
              "#f0f921"
             ]
            ],
            "type": "contour"
           }
          ],
          "contourcarpet": [
           {
            "colorbar": {
             "outlinewidth": 0,
             "ticks": ""
            },
            "type": "contourcarpet"
           }
          ],
          "heatmap": [
           {
            "colorbar": {
             "outlinewidth": 0,
             "ticks": ""
            },
            "colorscale": [
             [
              0,
              "#0d0887"
             ],
             [
              0.1111111111111111,
              "#46039f"
             ],
             [
              0.2222222222222222,
              "#7201a8"
             ],
             [
              0.3333333333333333,
              "#9c179e"
             ],
             [
              0.4444444444444444,
              "#bd3786"
             ],
             [
              0.5555555555555556,
              "#d8576b"
             ],
             [
              0.6666666666666666,
              "#ed7953"
             ],
             [
              0.7777777777777778,
              "#fb9f3a"
             ],
             [
              0.8888888888888888,
              "#fdca26"
             ],
             [
              1,
              "#f0f921"
             ]
            ],
            "type": "heatmap"
           }
          ],
          "heatmapgl": [
           {
            "colorbar": {
             "outlinewidth": 0,
             "ticks": ""
            },
            "colorscale": [
             [
              0,
              "#0d0887"
             ],
             [
              0.1111111111111111,
              "#46039f"
             ],
             [
              0.2222222222222222,
              "#7201a8"
             ],
             [
              0.3333333333333333,
              "#9c179e"
             ],
             [
              0.4444444444444444,
              "#bd3786"
             ],
             [
              0.5555555555555556,
              "#d8576b"
             ],
             [
              0.6666666666666666,
              "#ed7953"
             ],
             [
              0.7777777777777778,
              "#fb9f3a"
             ],
             [
              0.8888888888888888,
              "#fdca26"
             ],
             [
              1,
              "#f0f921"
             ]
            ],
            "type": "heatmapgl"
           }
          ],
          "histogram": [
           {
            "marker": {
             "pattern": {
              "fillmode": "overlay",
              "size": 10,
              "solidity": 0.2
             }
            },
            "type": "histogram"
           }
          ],
          "histogram2d": [
           {
            "colorbar": {
             "outlinewidth": 0,
             "ticks": ""
            },
            "colorscale": [
             [
              0,
              "#0d0887"
             ],
             [
              0.1111111111111111,
              "#46039f"
             ],
             [
              0.2222222222222222,
              "#7201a8"
             ],
             [
              0.3333333333333333,
              "#9c179e"
             ],
             [
              0.4444444444444444,
              "#bd3786"
             ],
             [
              0.5555555555555556,
              "#d8576b"
             ],
             [
              0.6666666666666666,
              "#ed7953"
             ],
             [
              0.7777777777777778,
              "#fb9f3a"
             ],
             [
              0.8888888888888888,
              "#fdca26"
             ],
             [
              1,
              "#f0f921"
             ]
            ],
            "type": "histogram2d"
           }
          ],
          "histogram2dcontour": [
           {
            "colorbar": {
             "outlinewidth": 0,
             "ticks": ""
            },
            "colorscale": [
             [
              0,
              "#0d0887"
             ],
             [
              0.1111111111111111,
              "#46039f"
             ],
             [
              0.2222222222222222,
              "#7201a8"
             ],
             [
              0.3333333333333333,
              "#9c179e"
             ],
             [
              0.4444444444444444,
              "#bd3786"
             ],
             [
              0.5555555555555556,
              "#d8576b"
             ],
             [
              0.6666666666666666,
              "#ed7953"
             ],
             [
              0.7777777777777778,
              "#fb9f3a"
             ],
             [
              0.8888888888888888,
              "#fdca26"
             ],
             [
              1,
              "#f0f921"
             ]
            ],
            "type": "histogram2dcontour"
           }
          ],
          "mesh3d": [
           {
            "colorbar": {
             "outlinewidth": 0,
             "ticks": ""
            },
            "type": "mesh3d"
           }
          ],
          "parcoords": [
           {
            "line": {
             "colorbar": {
              "outlinewidth": 0,
              "ticks": ""
             }
            },
            "type": "parcoords"
           }
          ],
          "pie": [
           {
            "automargin": true,
            "type": "pie"
           }
          ],
          "scatter": [
           {
            "fillpattern": {
             "fillmode": "overlay",
             "size": 10,
             "solidity": 0.2
            },
            "type": "scatter"
           }
          ],
          "scatter3d": [
           {
            "line": {
             "colorbar": {
              "outlinewidth": 0,
              "ticks": ""
             }
            },
            "marker": {
             "colorbar": {
              "outlinewidth": 0,
              "ticks": ""
             }
            },
            "type": "scatter3d"
           }
          ],
          "scattercarpet": [
           {
            "marker": {
             "colorbar": {
              "outlinewidth": 0,
              "ticks": ""
             }
            },
            "type": "scattercarpet"
           }
          ],
          "scattergeo": [
           {
            "marker": {
             "colorbar": {
              "outlinewidth": 0,
              "ticks": ""
             }
            },
            "type": "scattergeo"
           }
          ],
          "scattergl": [
           {
            "marker": {
             "colorbar": {
              "outlinewidth": 0,
              "ticks": ""
             }
            },
            "type": "scattergl"
           }
          ],
          "scattermapbox": [
           {
            "marker": {
             "colorbar": {
              "outlinewidth": 0,
              "ticks": ""
             }
            },
            "type": "scattermapbox"
           }
          ],
          "scatterpolar": [
           {
            "marker": {
             "colorbar": {
              "outlinewidth": 0,
              "ticks": ""
             }
            },
            "type": "scatterpolar"
           }
          ],
          "scatterpolargl": [
           {
            "marker": {
             "colorbar": {
              "outlinewidth": 0,
              "ticks": ""
             }
            },
            "type": "scatterpolargl"
           }
          ],
          "scatterternary": [
           {
            "marker": {
             "colorbar": {
              "outlinewidth": 0,
              "ticks": ""
             }
            },
            "type": "scatterternary"
           }
          ],
          "surface": [
           {
            "colorbar": {
             "outlinewidth": 0,
             "ticks": ""
            },
            "colorscale": [
             [
              0,
              "#0d0887"
             ],
             [
              0.1111111111111111,
              "#46039f"
             ],
             [
              0.2222222222222222,
              "#7201a8"
             ],
             [
              0.3333333333333333,
              "#9c179e"
             ],
             [
              0.4444444444444444,
              "#bd3786"
             ],
             [
              0.5555555555555556,
              "#d8576b"
             ],
             [
              0.6666666666666666,
              "#ed7953"
             ],
             [
              0.7777777777777778,
              "#fb9f3a"
             ],
             [
              0.8888888888888888,
              "#fdca26"
             ],
             [
              1,
              "#f0f921"
             ]
            ],
            "type": "surface"
           }
          ],
          "table": [
           {
            "cells": {
             "fill": {
              "color": "#EBF0F8"
             },
             "line": {
              "color": "white"
             }
            },
            "header": {
             "fill": {
              "color": "#C8D4E3"
             },
             "line": {
              "color": "white"
             }
            },
            "type": "table"
           }
          ]
         },
         "layout": {
          "annotationdefaults": {
           "arrowcolor": "#2a3f5f",
           "arrowhead": 0,
           "arrowwidth": 1
          },
          "autotypenumbers": "strict",
          "coloraxis": {
           "colorbar": {
            "outlinewidth": 0,
            "ticks": ""
           }
          },
          "colorscale": {
           "diverging": [
            [
             0,
             "#8e0152"
            ],
            [
             0.1,
             "#c51b7d"
            ],
            [
             0.2,
             "#de77ae"
            ],
            [
             0.3,
             "#f1b6da"
            ],
            [
             0.4,
             "#fde0ef"
            ],
            [
             0.5,
             "#f7f7f7"
            ],
            [
             0.6,
             "#e6f5d0"
            ],
            [
             0.7,
             "#b8e186"
            ],
            [
             0.8,
             "#7fbc41"
            ],
            [
             0.9,
             "#4d9221"
            ],
            [
             1,
             "#276419"
            ]
           ],
           "sequential": [
            [
             0,
             "#0d0887"
            ],
            [
             0.1111111111111111,
             "#46039f"
            ],
            [
             0.2222222222222222,
             "#7201a8"
            ],
            [
             0.3333333333333333,
             "#9c179e"
            ],
            [
             0.4444444444444444,
             "#bd3786"
            ],
            [
             0.5555555555555556,
             "#d8576b"
            ],
            [
             0.6666666666666666,
             "#ed7953"
            ],
            [
             0.7777777777777778,
             "#fb9f3a"
            ],
            [
             0.8888888888888888,
             "#fdca26"
            ],
            [
             1,
             "#f0f921"
            ]
           ],
           "sequentialminus": [
            [
             0,
             "#0d0887"
            ],
            [
             0.1111111111111111,
             "#46039f"
            ],
            [
             0.2222222222222222,
             "#7201a8"
            ],
            [
             0.3333333333333333,
             "#9c179e"
            ],
            [
             0.4444444444444444,
             "#bd3786"
            ],
            [
             0.5555555555555556,
             "#d8576b"
            ],
            [
             0.6666666666666666,
             "#ed7953"
            ],
            [
             0.7777777777777778,
             "#fb9f3a"
            ],
            [
             0.8888888888888888,
             "#fdca26"
            ],
            [
             1,
             "#f0f921"
            ]
           ]
          },
          "colorway": [
           "#636efa",
           "#EF553B",
           "#00cc96",
           "#ab63fa",
           "#FFA15A",
           "#19d3f3",
           "#FF6692",
           "#B6E880",
           "#FF97FF",
           "#FECB52"
          ],
          "font": {
           "color": "#2a3f5f"
          },
          "geo": {
           "bgcolor": "white",
           "lakecolor": "white",
           "landcolor": "#E5ECF6",
           "showlakes": true,
           "showland": true,
           "subunitcolor": "white"
          },
          "hoverlabel": {
           "align": "left"
          },
          "hovermode": "closest",
          "mapbox": {
           "style": "light"
          },
          "paper_bgcolor": "white",
          "plot_bgcolor": "#E5ECF6",
          "polar": {
           "angularaxis": {
            "gridcolor": "white",
            "linecolor": "white",
            "ticks": ""
           },
           "bgcolor": "#E5ECF6",
           "radialaxis": {
            "gridcolor": "white",
            "linecolor": "white",
            "ticks": ""
           }
          },
          "scene": {
           "xaxis": {
            "backgroundcolor": "#E5ECF6",
            "gridcolor": "white",
            "gridwidth": 2,
            "linecolor": "white",
            "showbackground": true,
            "ticks": "",
            "zerolinecolor": "white"
           },
           "yaxis": {
            "backgroundcolor": "#E5ECF6",
            "gridcolor": "white",
            "gridwidth": 2,
            "linecolor": "white",
            "showbackground": true,
            "ticks": "",
            "zerolinecolor": "white"
           },
           "zaxis": {
            "backgroundcolor": "#E5ECF6",
            "gridcolor": "white",
            "gridwidth": 2,
            "linecolor": "white",
            "showbackground": true,
            "ticks": "",
            "zerolinecolor": "white"
           }
          },
          "shapedefaults": {
           "line": {
            "color": "#2a3f5f"
           }
          },
          "ternary": {
           "aaxis": {
            "gridcolor": "white",
            "linecolor": "white",
            "ticks": ""
           },
           "baxis": {
            "gridcolor": "white",
            "linecolor": "white",
            "ticks": ""
           },
           "bgcolor": "#E5ECF6",
           "caxis": {
            "gridcolor": "white",
            "linecolor": "white",
            "ticks": ""
           }
          },
          "title": {
           "x": 0.05
          },
          "xaxis": {
           "automargin": true,
           "gridcolor": "white",
           "linecolor": "white",
           "ticks": "",
           "title": {
            "standoff": 15
           },
           "zerolinecolor": "white",
           "zerolinewidth": 2
          },
          "yaxis": {
           "automargin": true,
           "gridcolor": "white",
           "linecolor": "white",
           "ticks": "",
           "title": {
            "standoff": 15
           },
           "zerolinecolor": "white",
           "zerolinewidth": 2
          }
         }
        },
        "title": {
         "text": "VENTAS X PLATAFORMA (2000~2016)"
        },
        "yaxis": {
         "title": {
          "text": "Total de Ventas (million)"
         }
        }
       }
      },
      "text/html": [
       "<div>                            <div id=\"74030db4-ca82-44ef-be16-a204b0b6cedd\" class=\"plotly-graph-div\" style=\"height:600px; width:100%;\"></div>            <script type=\"text/javascript\">                require([\"plotly\"], function(Plotly) {                    window.PLOTLYENV=window.PLOTLYENV || {};                                    if (document.getElementById(\"74030db4-ca82-44ef-be16-a204b0b6cedd\")) {                    Plotly.newPlot(                        \"74030db4-ca82-44ef-be16-a204b0b6cedd\",                        [{\"marker\":{\"color\":\"rgb(0.7211072664359862, 0.11649365628604381, 0.28281430219146486)\"},\"name\":\"PS\",\"text\":\"PS\",\"x\":[2000.0,2001.0,2002.0,2003.0,2004.0,2005.0,2006.0,2007.0,2008.0,2009.0,2010.0,2011.0,2012.0,2013.0,2014.0,2015.0,2016.0],\"y\":[96.28,35.52,6.6899999999999995,2.05,0.0,0.0,0.0,0.0,0.0,0.0,0.0,0.0,0.0,0.0,0.0,0.0,0.0],\"type\":\"bar\"},{\"marker\":{\"color\":\"rgb(0.8226066897347175, 0.22906574394463664, 0.30680507497116494)\"},\"name\":\"PS2\",\"text\":\"PS2\",\"x\":[2000.0,2001.0,2002.0,2003.0,2004.0,2005.0,2006.0,2007.0,2008.0,2009.0,2010.0,2011.0,2012.0,2013.0,2014.0,2015.0,2016.0],\"y\":[39.11,166.43,205.4,184.29,211.78,160.65,103.42,75.99,53.83,26.45,5.63,0.47000000000000003,0.0,0.0,0.0,0.0,0.0],\"type\":\"bar\"},{\"marker\":{\"color\":\"rgb(0.8853517877739331, 0.3190311418685121, 0.29042675893886966)\"},\"name\":\"N64\",\"text\":\"N64\",\"x\":[2000.0,2001.0,2002.0,2003.0,2004.0,2005.0,2006.0,2007.0,2008.0,2009.0,2010.0,2011.0,2012.0,2013.0,2014.0,2015.0,2016.0],\"y\":[34.01,3.2600000000000002,0.08,0.0,0.0,0.0,0.0,0.0,0.0,0.0,0.0,0.0,0.0,0.0,0.0,0.0,0.0],\"type\":\"bar\"},{\"marker\":{\"color\":\"rgb(0.942560553633218, 0.4057670126874279, 0.2682814302191465)\"},\"name\":\"GB\",\"text\":\"GB\",\"x\":[2000.0,2001.0,2002.0,2003.0,2004.0,2005.0,2006.0,2007.0,2008.0,2009.0,2010.0,2011.0,2012.0,2013.0,2014.0,2015.0,2016.0],\"y\":[19.76,9.24,0.0,0.0,0.0,0.0,0.0,0.0,0.0,0.0,0.0,0.0,0.0,0.0,0.0,0.0,0.0],\"type\":\"bar\"},{\"marker\":{\"color\":\"rgb(0.9693194925028835, 0.5174163783160323, 0.30426758938869664)\"},\"name\":\"DC\",\"text\":\"DC\",\"x\":[2000.0,2001.0,2002.0,2003.0,2004.0,2005.0,2006.0,2007.0,2008.0,2009.0,2010.0,2011.0,2012.0,2013.0,2014.0,2015.0,2016.0],\"y\":[5.99,1.07,0.29,0.0,0.0,0.0,0.0,0.02,0.04,0.0,0.0,0.0,0.0,0.0,0.0,0.0,0.0],\"type\":\"bar\"},{\"marker\":{\"color\":\"rgb(0.9873125720876587, 0.6473663975394078, 0.3642445213379469)\"},\"name\":\"PC\",\"text\":\"PC\",\"x\":[2000.0,2001.0,2002.0,2003.0,2004.0,2005.0,2006.0,2007.0,2008.0,2009.0,2010.0,2011.0,2012.0,2013.0,2014.0,2015.0,2016.0],\"y\":[4.68,5.51,8.6,8.96,10.46,4.47,2.9699999999999998,9.4,12.67,17.16,24.46,35.25,23.53,12.83,13.39,8.07,2.6],\"type\":\"bar\"},{\"marker\":{\"color\":\"rgb(0.9934640522875817, 0.7477124183006535, 0.4352941176470587)\"},\"name\":\"XB\",\"text\":\"XB\",\"x\":[2000.0,2001.0,2002.0,2003.0,2004.0,2005.0,2006.0,2007.0,2008.0,2009.0,2010.0,2011.0,2012.0,2013.0,2014.0,2015.0,2016.0],\"y\":[0.99,22.24,48.15,55.160000000000004,65.5,49.17,10.15,0.5499999999999999,0.18,0.0,0.0,0.0,0.0,0.0,0.0,0.0,0.0],\"type\":\"bar\"},{\"marker\":{\"color\":\"rgb(0.9953094963475586, 0.8399846212995001, 0.5128027681660899)\"},\"name\":\"WS\",\"text\":\"WS\",\"x\":[2000.0,2001.0,2002.0,2003.0,2004.0,2005.0,2006.0,2007.0,2008.0,2009.0,2010.0,2011.0,2012.0,2013.0,2014.0,2015.0,2016.0],\"y\":[0.68,0.28,0.0,0.0,0.0,0.0,0.0,0.0,0.0,0.0,0.0,0.0,0.0,0.0,0.0,0.0,0.0],\"type\":\"bar\"},{\"marker\":{\"color\":\"rgb(0.9971549404075356, 0.9118031526336025, 0.6010765090349866)\"},\"name\":\"GBA\",\"text\":\"GBA\",\"x\":[2000.0,2001.0,2002.0,2003.0,2004.0,2005.0,2006.0,2007.0,2008.0,2009.0,2010.0,2011.0,2012.0,2013.0,2014.0,2015.0,2016.0],\"y\":[0.06,61.62,74.38,56.73,78.09,33.9,5.3500000000000005,3.43,0.0,0.0,0.0,0.0,0.0,0.0,0.0,0.0,0.0],\"type\":\"bar\"},{\"marker\":{\"color\":\"rgb(0.9990003844675125, 0.9690119184928874, 0.697039600153787)\"},\"name\":\"GC\",\"text\":\"GC\",\"x\":[2000.0,2001.0,2002.0,2003.0,2004.0,2005.0,2006.0,2007.0,2008.0,2009.0,2010.0,2011.0,2012.0,2013.0,2014.0,2015.0,2016.0],\"y\":[0.0,26.3,51.93,50.660000000000004,28.89,27.8,11.290000000000001,0.27,0.0,0.0,0.0,0.0,0.0,0.0,0.0,0.0,0.0],\"type\":\"bar\"},{\"marker\":{\"color\":\"rgb(0.9750096116878124, 0.9900038446751249, 0.7100346020761246)\"},\"name\":\"DS\",\"text\":\"DS\",\"x\":[2000.0,2001.0,2002.0,2003.0,2004.0,2005.0,2006.0,2007.0,2008.0,2009.0,2010.0,2011.0,2012.0,2013.0,2014.0,2015.0,2016.0],\"y\":[0.0,0.0,0.0,0.0,17.46,131.4,121.15,149.35999999999999,147.89,121.99,87.98,27.8,11.64,1.96,0.02,0.0,0.0],\"type\":\"bar\"},{\"marker\":{\"color\":\"rgb(0.9288735101883892, 0.9715494040753557, 0.6380622837370243)\"},\"name\":\"PSP\",\"text\":\"PSP\",\"x\":[2000.0,2001.0,2002.0,2003.0,2004.0,2005.0,2006.0,2007.0,2008.0,2009.0,2010.0,2011.0,2012.0,2013.0,2014.0,2015.0,2016.0],\"y\":[0.0,0.0,0.0,0.0,7.13,44.230000000000004,55.85,47.48,34.68,38.07,35.09,17.66,7.66,3.19,0.24,0.12,0.0],\"type\":\"bar\"},{\"marker\":{\"color\":\"rgb(0.8565936178392929, 0.942329873125721, 0.6053056516724337)\"},\"name\":\"X360\",\"text\":\"X360\",\"x\":[2000.0,2001.0,2002.0,2003.0,2004.0,2005.0,2006.0,2007.0,2008.0,2009.0,2010.0,2011.0,2012.0,2013.0,2014.0,2015.0,2016.0],\"y\":[0.0,0.0,0.0,0.0,0.0,8.32,51.88,95.84,135.76,120.75,171.02,145.04,100.86,89.59,36.42,13.05,0.8300000000000001],\"type\":\"bar\"},{\"marker\":{\"color\":\"rgb(0.7477124183006538, 0.8980392156862746, 0.6274509803921569)\"},\"name\":\"Wii\",\"text\":\"Wii\",\"x\":[2000.0,2001.0,2002.0,2003.0,2004.0,2005.0,2006.0,2007.0,2008.0,2009.0,2010.0,2011.0,2012.0,2013.0,2014.0,2015.0,2016.0],\"y\":[0.0,0.0,0.0,0.0,0.0,0.0,137.91,154.97,174.16,210.44,131.8,62.41,22.77,9.36,4.4399999999999995,1.5499999999999998,0.0],\"type\":\"bar\"},{\"marker\":{\"color\":\"rgb(0.6334486735870821, 0.8521337946943485, 0.6436755094194541)\"},\"name\":\"PS3\",\"text\":\"PS3\",\"x\":[2000.0,2001.0,2002.0,2003.0,2004.0,2005.0,2006.0,2007.0,2008.0,2009.0,2010.0,2011.0,2012.0,2013.0,2014.0,2015.0,2016.0],\"y\":[0.0,0.0,0.0,0.0,0.0,0.0,21.07,73.81,119.69,132.34,144.42,159.37,109.28,117.33,50.96,18.18,2.59],\"type\":\"bar\"},{\"marker\":{\"color\":\"rgb(0.4955017301038063, 0.7981545559400232, 0.6456747404844291)\"},\"name\":\"3DS\",\"text\":\"3DS\",\"x\":[2000.0,2001.0,2002.0,2003.0,2004.0,2005.0,2006.0,2007.0,2008.0,2009.0,2010.0,2011.0,2012.0,2013.0,2014.0,2015.0,2016.0],\"y\":[0.0,0.0,0.0,0.0,0.0,0.0,0.0,0.0,0.0,0.0,0.0,62.53,51.14,55.88,43.14,26.99,6.6],\"type\":\"bar\"},{\"marker\":{\"color\":\"rgb(0.3760092272202999, 0.7340253748558246, 0.6581314878892733)\"},\"name\":\"PSV\",\"text\":\"PSV\",\"x\":[2000.0,2001.0,2002.0,2003.0,2004.0,2005.0,2006.0,2007.0,2008.0,2009.0,2010.0,2011.0,2012.0,2013.0,2014.0,2015.0,2016.0],\"y\":[0.0,0.0,0.0,0.0,0.0,0.0,0.0,0.0,0.0,0.0,0.0,5.15,18.53,12.48,14.5,7.0,3.4],\"type\":\"bar\"},{\"marker\":{\"color\":\"rgb(0.2800461361014994, 0.6269896193771626, 0.7024221453287197)\"},\"name\":\"WiiU\",\"text\":\"WiiU\",\"x\":[2000.0,2001.0,2002.0,2003.0,2004.0,2005.0,2006.0,2007.0,2008.0,2009.0,2010.0,2011.0,2012.0,2013.0,2014.0,2015.0,2016.0],\"y\":[0.0,0.0,0.0,0.0,0.0,0.0,0.0,0.0,0.0,0.0,0.0,0.0,17.84,21.84,22.509999999999998,16.380000000000003,3.29],\"type\":\"bar\"},{\"marker\":{\"color\":\"rgb(0.20622837370242214, 0.5201845444059977, 0.7349480968858132)\"},\"name\":\"PS4\",\"text\":\"PS4\",\"x\":[2000.0,2001.0,2002.0,2003.0,2004.0,2005.0,2006.0,2007.0,2008.0,2009.0,2010.0,2011.0,2012.0,2013.0,2014.0,2015.0,2016.0],\"y\":[0.0,0.0,0.0,0.0,0.0,0.0,0.0,0.0,0.0,0.0,0.0,0.0,0.0,24.76,98.76,115.24,39.25],\"type\":\"bar\"},{\"marker\":{\"color\":\"rgb(0.2874279123414072, 0.4149942329873126, 0.6851211072664359)\"},\"name\":\"XOne\",\"text\":\"XOne\",\"x\":[2000.0,2001.0,2002.0,2003.0,2004.0,2005.0,2006.0,2007.0,2008.0,2009.0,2010.0,2011.0,2012.0,2013.0,2014.0,2015.0,2016.0],\"y\":[0.0,0.0,0.0,0.0,0.0,0.0,0.0,0.0,0.0,0.0,0.0,0.0,0.0,18.6,52.43,57.66,12.37],\"type\":\"bar\"}],                        {\"template\":{\"data\":{\"histogram2dcontour\":[{\"type\":\"histogram2dcontour\",\"colorbar\":{\"outlinewidth\":0,\"ticks\":\"\"},\"colorscale\":[[0.0,\"#0d0887\"],[0.1111111111111111,\"#46039f\"],[0.2222222222222222,\"#7201a8\"],[0.3333333333333333,\"#9c179e\"],[0.4444444444444444,\"#bd3786\"],[0.5555555555555556,\"#d8576b\"],[0.6666666666666666,\"#ed7953\"],[0.7777777777777778,\"#fb9f3a\"],[0.8888888888888888,\"#fdca26\"],[1.0,\"#f0f921\"]]}],\"choropleth\":[{\"type\":\"choropleth\",\"colorbar\":{\"outlinewidth\":0,\"ticks\":\"\"}}],\"histogram2d\":[{\"type\":\"histogram2d\",\"colorbar\":{\"outlinewidth\":0,\"ticks\":\"\"},\"colorscale\":[[0.0,\"#0d0887\"],[0.1111111111111111,\"#46039f\"],[0.2222222222222222,\"#7201a8\"],[0.3333333333333333,\"#9c179e\"],[0.4444444444444444,\"#bd3786\"],[0.5555555555555556,\"#d8576b\"],[0.6666666666666666,\"#ed7953\"],[0.7777777777777778,\"#fb9f3a\"],[0.8888888888888888,\"#fdca26\"],[1.0,\"#f0f921\"]]}],\"heatmap\":[{\"type\":\"heatmap\",\"colorbar\":{\"outlinewidth\":0,\"ticks\":\"\"},\"colorscale\":[[0.0,\"#0d0887\"],[0.1111111111111111,\"#46039f\"],[0.2222222222222222,\"#7201a8\"],[0.3333333333333333,\"#9c179e\"],[0.4444444444444444,\"#bd3786\"],[0.5555555555555556,\"#d8576b\"],[0.6666666666666666,\"#ed7953\"],[0.7777777777777778,\"#fb9f3a\"],[0.8888888888888888,\"#fdca26\"],[1.0,\"#f0f921\"]]}],\"heatmapgl\":[{\"type\":\"heatmapgl\",\"colorbar\":{\"outlinewidth\":0,\"ticks\":\"\"},\"colorscale\":[[0.0,\"#0d0887\"],[0.1111111111111111,\"#46039f\"],[0.2222222222222222,\"#7201a8\"],[0.3333333333333333,\"#9c179e\"],[0.4444444444444444,\"#bd3786\"],[0.5555555555555556,\"#d8576b\"],[0.6666666666666666,\"#ed7953\"],[0.7777777777777778,\"#fb9f3a\"],[0.8888888888888888,\"#fdca26\"],[1.0,\"#f0f921\"]]}],\"contourcarpet\":[{\"type\":\"contourcarpet\",\"colorbar\":{\"outlinewidth\":0,\"ticks\":\"\"}}],\"contour\":[{\"type\":\"contour\",\"colorbar\":{\"outlinewidth\":0,\"ticks\":\"\"},\"colorscale\":[[0.0,\"#0d0887\"],[0.1111111111111111,\"#46039f\"],[0.2222222222222222,\"#7201a8\"],[0.3333333333333333,\"#9c179e\"],[0.4444444444444444,\"#bd3786\"],[0.5555555555555556,\"#d8576b\"],[0.6666666666666666,\"#ed7953\"],[0.7777777777777778,\"#fb9f3a\"],[0.8888888888888888,\"#fdca26\"],[1.0,\"#f0f921\"]]}],\"surface\":[{\"type\":\"surface\",\"colorbar\":{\"outlinewidth\":0,\"ticks\":\"\"},\"colorscale\":[[0.0,\"#0d0887\"],[0.1111111111111111,\"#46039f\"],[0.2222222222222222,\"#7201a8\"],[0.3333333333333333,\"#9c179e\"],[0.4444444444444444,\"#bd3786\"],[0.5555555555555556,\"#d8576b\"],[0.6666666666666666,\"#ed7953\"],[0.7777777777777778,\"#fb9f3a\"],[0.8888888888888888,\"#fdca26\"],[1.0,\"#f0f921\"]]}],\"mesh3d\":[{\"type\":\"mesh3d\",\"colorbar\":{\"outlinewidth\":0,\"ticks\":\"\"}}],\"scatter\":[{\"fillpattern\":{\"fillmode\":\"overlay\",\"size\":10,\"solidity\":0.2},\"type\":\"scatter\"}],\"parcoords\":[{\"type\":\"parcoords\",\"line\":{\"colorbar\":{\"outlinewidth\":0,\"ticks\":\"\"}}}],\"scatterpolargl\":[{\"type\":\"scatterpolargl\",\"marker\":{\"colorbar\":{\"outlinewidth\":0,\"ticks\":\"\"}}}],\"bar\":[{\"error_x\":{\"color\":\"#2a3f5f\"},\"error_y\":{\"color\":\"#2a3f5f\"},\"marker\":{\"line\":{\"color\":\"#E5ECF6\",\"width\":0.5},\"pattern\":{\"fillmode\":\"overlay\",\"size\":10,\"solidity\":0.2}},\"type\":\"bar\"}],\"scattergeo\":[{\"type\":\"scattergeo\",\"marker\":{\"colorbar\":{\"outlinewidth\":0,\"ticks\":\"\"}}}],\"scatterpolar\":[{\"type\":\"scatterpolar\",\"marker\":{\"colorbar\":{\"outlinewidth\":0,\"ticks\":\"\"}}}],\"histogram\":[{\"marker\":{\"pattern\":{\"fillmode\":\"overlay\",\"size\":10,\"solidity\":0.2}},\"type\":\"histogram\"}],\"scattergl\":[{\"type\":\"scattergl\",\"marker\":{\"colorbar\":{\"outlinewidth\":0,\"ticks\":\"\"}}}],\"scatter3d\":[{\"type\":\"scatter3d\",\"line\":{\"colorbar\":{\"outlinewidth\":0,\"ticks\":\"\"}},\"marker\":{\"colorbar\":{\"outlinewidth\":0,\"ticks\":\"\"}}}],\"scattermapbox\":[{\"type\":\"scattermapbox\",\"marker\":{\"colorbar\":{\"outlinewidth\":0,\"ticks\":\"\"}}}],\"scatterternary\":[{\"type\":\"scatterternary\",\"marker\":{\"colorbar\":{\"outlinewidth\":0,\"ticks\":\"\"}}}],\"scattercarpet\":[{\"type\":\"scattercarpet\",\"marker\":{\"colorbar\":{\"outlinewidth\":0,\"ticks\":\"\"}}}],\"carpet\":[{\"aaxis\":{\"endlinecolor\":\"#2a3f5f\",\"gridcolor\":\"white\",\"linecolor\":\"white\",\"minorgridcolor\":\"white\",\"startlinecolor\":\"#2a3f5f\"},\"baxis\":{\"endlinecolor\":\"#2a3f5f\",\"gridcolor\":\"white\",\"linecolor\":\"white\",\"minorgridcolor\":\"white\",\"startlinecolor\":\"#2a3f5f\"},\"type\":\"carpet\"}],\"table\":[{\"cells\":{\"fill\":{\"color\":\"#EBF0F8\"},\"line\":{\"color\":\"white\"}},\"header\":{\"fill\":{\"color\":\"#C8D4E3\"},\"line\":{\"color\":\"white\"}},\"type\":\"table\"}],\"barpolar\":[{\"marker\":{\"line\":{\"color\":\"#E5ECF6\",\"width\":0.5},\"pattern\":{\"fillmode\":\"overlay\",\"size\":10,\"solidity\":0.2}},\"type\":\"barpolar\"}],\"pie\":[{\"automargin\":true,\"type\":\"pie\"}]},\"layout\":{\"autotypenumbers\":\"strict\",\"colorway\":[\"#636efa\",\"#EF553B\",\"#00cc96\",\"#ab63fa\",\"#FFA15A\",\"#19d3f3\",\"#FF6692\",\"#B6E880\",\"#FF97FF\",\"#FECB52\"],\"font\":{\"color\":\"#2a3f5f\"},\"hovermode\":\"closest\",\"hoverlabel\":{\"align\":\"left\"},\"paper_bgcolor\":\"white\",\"plot_bgcolor\":\"#E5ECF6\",\"polar\":{\"bgcolor\":\"#E5ECF6\",\"angularaxis\":{\"gridcolor\":\"white\",\"linecolor\":\"white\",\"ticks\":\"\"},\"radialaxis\":{\"gridcolor\":\"white\",\"linecolor\":\"white\",\"ticks\":\"\"}},\"ternary\":{\"bgcolor\":\"#E5ECF6\",\"aaxis\":{\"gridcolor\":\"white\",\"linecolor\":\"white\",\"ticks\":\"\"},\"baxis\":{\"gridcolor\":\"white\",\"linecolor\":\"white\",\"ticks\":\"\"},\"caxis\":{\"gridcolor\":\"white\",\"linecolor\":\"white\",\"ticks\":\"\"}},\"coloraxis\":{\"colorbar\":{\"outlinewidth\":0,\"ticks\":\"\"}},\"colorscale\":{\"sequential\":[[0.0,\"#0d0887\"],[0.1111111111111111,\"#46039f\"],[0.2222222222222222,\"#7201a8\"],[0.3333333333333333,\"#9c179e\"],[0.4444444444444444,\"#bd3786\"],[0.5555555555555556,\"#d8576b\"],[0.6666666666666666,\"#ed7953\"],[0.7777777777777778,\"#fb9f3a\"],[0.8888888888888888,\"#fdca26\"],[1.0,\"#f0f921\"]],\"sequentialminus\":[[0.0,\"#0d0887\"],[0.1111111111111111,\"#46039f\"],[0.2222222222222222,\"#7201a8\"],[0.3333333333333333,\"#9c179e\"],[0.4444444444444444,\"#bd3786\"],[0.5555555555555556,\"#d8576b\"],[0.6666666666666666,\"#ed7953\"],[0.7777777777777778,\"#fb9f3a\"],[0.8888888888888888,\"#fdca26\"],[1.0,\"#f0f921\"]],\"diverging\":[[0,\"#8e0152\"],[0.1,\"#c51b7d\"],[0.2,\"#de77ae\"],[0.3,\"#f1b6da\"],[0.4,\"#fde0ef\"],[0.5,\"#f7f7f7\"],[0.6,\"#e6f5d0\"],[0.7,\"#b8e186\"],[0.8,\"#7fbc41\"],[0.9,\"#4d9221\"],[1,\"#276419\"]]},\"xaxis\":{\"gridcolor\":\"white\",\"linecolor\":\"white\",\"ticks\":\"\",\"title\":{\"standoff\":15},\"zerolinecolor\":\"white\",\"automargin\":true,\"zerolinewidth\":2},\"yaxis\":{\"gridcolor\":\"white\",\"linecolor\":\"white\",\"ticks\":\"\",\"title\":{\"standoff\":15},\"zerolinecolor\":\"white\",\"automargin\":true,\"zerolinewidth\":2},\"scene\":{\"xaxis\":{\"backgroundcolor\":\"#E5ECF6\",\"gridcolor\":\"white\",\"linecolor\":\"white\",\"showbackground\":true,\"ticks\":\"\",\"zerolinecolor\":\"white\",\"gridwidth\":2},\"yaxis\":{\"backgroundcolor\":\"#E5ECF6\",\"gridcolor\":\"white\",\"linecolor\":\"white\",\"showbackground\":true,\"ticks\":\"\",\"zerolinecolor\":\"white\",\"gridwidth\":2},\"zaxis\":{\"backgroundcolor\":\"#E5ECF6\",\"gridcolor\":\"white\",\"linecolor\":\"white\",\"showbackground\":true,\"ticks\":\"\",\"zerolinecolor\":\"white\",\"gridwidth\":2}},\"shapedefaults\":{\"line\":{\"color\":\"#2a3f5f\"}},\"annotationdefaults\":{\"arrowcolor\":\"#2a3f5f\",\"arrowhead\":0,\"arrowwidth\":1},\"geo\":{\"bgcolor\":\"white\",\"landcolor\":\"#E5ECF6\",\"subunitcolor\":\"white\",\"showland\":true,\"showlakes\":true,\"lakecolor\":\"white\"},\"title\":{\"x\":0.05},\"mapbox\":{\"style\":\"light\"}}},\"margin\":{\"l\":10,\"r\":0,\"t\":40,\"b\":20},\"barmode\":\"stack\",\"height\":600,\"title\":{\"text\":\"VENTAS X PLATAFORMA (2000~2016)\"},\"yaxis\":{\"title\":{\"text\":\"Total de Ventas (million)\"}}},                        {\"responsive\": true}                    ).then(function(){\n",
       "                            \n",
       "var gd = document.getElementById('74030db4-ca82-44ef-be16-a204b0b6cedd');\n",
       "var x = new MutationObserver(function (mutations, observer) {{\n",
       "        var display = window.getComputedStyle(gd).display;\n",
       "        if (!display || display === 'none') {{\n",
       "            console.log([gd, 'removed!']);\n",
       "            Plotly.purge(gd);\n",
       "            observer.disconnect();\n",
       "        }}\n",
       "}});\n",
       "\n",
       "// Listen for the removal of the full notebook cells\n",
       "var notebookContainer = gd.closest('#notebook-container');\n",
       "if (notebookContainer) {{\n",
       "    x.observe(notebookContainer, {childList: true});\n",
       "}}\n",
       "\n",
       "// Listen for the clearing of the current output cell\n",
       "var outputEl = gd.closest('.output');\n",
       "if (outputEl) {{\n",
       "    x.observe(outputEl, {childList: true});\n",
       "}}\n",
       "\n",
       "                        })                };                });            </script>        </div>"
      ]
     },
     "metadata": {},
     "output_type": "display_data"
    }
   ],
   "source": [
    "fig = []\n",
    "for i, col in enumerate(order):\n",
    "    fig.append(go.Bar(name=col, x=temp['Año'], y=temp[col],\n",
    "                      text=col, marker_color='rgb'+str(colors[i])))\n",
    "figs = go.Figure(fig)\n",
    "figs.update_layout(barmode='stack', height=600,\n",
    "                   margin=dict(l=10, r=0, t=40, b=20),\n",
    "                   title=\"VENTAS X PLATAFORMA (2000~2016)\",\n",
    "                   yaxis_title=\"Total de Ventas (million)\")\n",
    "figs.show()"
   ]
  },
  {
   "cell_type": "code",
   "execution_count": 31,
   "id": "39ae2dc4",
   "metadata": {},
   "outputs": [],
   "source": [
    "ventas = [col for col in data.columns if col.endswith('Sales') and not col.startswith('Total')]\n",
    "genero_ventas = data.groupby(['Genero'])[sales].sum()"
   ]
  },
  {
   "cell_type": "code",
   "execution_count": 39,
   "id": "0450e909",
   "metadata": {},
   "outputs": [
    {
     "data": {
      "image/png": "[encoded data removed]",
      "text/plain": [
       "<Figure size 432x432 with 1 Axes>"
      ]
     },
     "metadata": {},
     "output_type": "display_data"
    }
   ],
   "source": [
    "venta_total_genero = (data.groupby(['Genero'])['Ventas_global'].sum()\n",
    "                      .sort_values(ascending=False))\n",
    "fig, ax = plt.subplots(figsize=(6, 6), facecolor='white')\n",
    "ax.pie(np.append(venta_total_genero.values[:7], \n",
    "                 sum(venta_total_genero.values)-sum(venta_total_genero.values[:7])), \n",
    "       labels=np.append(venta_total_genero.index[:7], 'Other'),\n",
    "       autopct='%.1f%%', colors=colors,\n",
    "       pctdistance=0.8,\n",
    "       textprops={'fontsize': 13}\n",
    "      )\n",
    "plt.title(\"Global Total Sales\", fontsize=18)\n",
    "plt.show()"
   ]
  }
 ],
 "metadata": {
  "kernelspec": {
   "display_name": "Python 3 (ipykernel)",
   "language": "python",
   "name": "python3"
  },
  "language_info": {
   "codemirror_mode": {
    "name": "ipython",
    "version": 3
   },
   "file_extension": ".py",
   "mimetype": "text/x-python",
   "name": "python",
   "nbconvert_exporter": "python",
   "pygments_lexer": "ipython3",
   "version": "3.9.7"
  }
 },
 "nbformat": 4,
 "nbformat_minor": 5
}
